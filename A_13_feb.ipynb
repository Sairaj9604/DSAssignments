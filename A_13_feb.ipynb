{
 "cells": [
  {
   "cell_type": "code",
   "execution_count": null,
   "id": "9591a9fe-e52c-4bdd-9f71-4205a2af32a6",
   "metadata": {},
   "outputs": [],
   "source": [
    "'''Q1. Explain why we have to use the Exception class while creating a Custom Exception.'''\n",
    "'''Built-in exceptions offer information about Python-related problems, and custom exceptions will add information about project-related problems.'''"
   ]
  },
  {
   "cell_type": "code",
   "execution_count": 1,
   "id": "e872f04e-6c5c-4bc6-bb9d-0fde4f4eeaa2",
   "metadata": {},
   "outputs": [
    {
     "name": "stdout",
     "output_type": "stream",
     "text": [
      "cant divide a number by zero\n",
      "enter proper divisor\n"
     ]
    }
   ],
   "source": [
    "'''Q2. Write a python program to print Python Exception Hierarchy.'''\n",
    "\n",
    "try:\n",
    "    k = 5//0\n",
    "    print(k)\n",
    "except ZeroDivisionError:\n",
    "    print(\"cant divide a number by zero\")\n",
    "finally:\n",
    "    print(\"enter proper divisor\")\n",
    "\n",
    "    \n",
    "    "
   ]
  },
  {
   "cell_type": "code",
   "execution_count": null,
   "id": "20ab2fff-b083-4393-a2f6-65157c6911f6",
   "metadata": {},
   "outputs": [],
   "source": [
    "'''Q3. What errors are defined in the ArithmeticError class? Explain any two with an example.'''\n",
    "'''\n",
    "1. ZeroDivisionError\n",
    "2. overflow error'''\n"
   ]
  },
  {
   "cell_type": "code",
   "execution_count": 2,
   "id": "e225a5bc-2ac8-4189-a6fa-66b18eff0a47",
   "metadata": {},
   "outputs": [
    {
     "ename": "ZeroDivisionError",
     "evalue": "division by zero",
     "output_type": "error",
     "traceback": [
      "\u001b[0;31m---------------------------------------------------------------------------\u001b[0m",
      "\u001b[0;31mZeroDivisionError\u001b[0m                         Traceback (most recent call last)",
      "Cell \u001b[0;32mIn[2], line 3\u001b[0m\n\u001b[1;32m      1\u001b[0m a \u001b[38;5;241m=\u001b[39m \u001b[38;5;241m10\u001b[39m\n\u001b[1;32m      2\u001b[0m b \u001b[38;5;241m=\u001b[39m \u001b[38;5;241m0\u001b[39m\n\u001b[0;32m----> 3\u001b[0m c \u001b[38;5;241m=\u001b[39m \u001b[43ma\u001b[49m\u001b[43m \u001b[49m\u001b[38;5;241;43m/\u001b[39;49m\u001b[43m \u001b[49m\u001b[43mb\u001b[49m\n",
      "\u001b[0;31mZeroDivisionError\u001b[0m: division by zero"
     ]
    }
   ],
   "source": [
    "a = 10\n",
    "b = 0\n",
    "c = a / b"
   ]
  },
  {
   "cell_type": "code",
   "execution_count": 5,
   "id": "fd789f39-bfa1-4319-95fb-028b115597fa",
   "metadata": {},
   "outputs": [
    {
     "data": {
      "text/plain": [
       "85070591730234615847396907784232501249"
      ]
     },
     "execution_count": 5,
     "metadata": {},
     "output_type": "execute_result"
    }
   ],
   "source": [
    "import sys\n",
    "a = sys.maxsize\n",
    "c = a * a\n",
    "c"
   ]
  },
  {
   "cell_type": "code",
   "execution_count": null,
   "id": "10a56c1d-55db-4e9e-ac71-2c25755ed29f",
   "metadata": {},
   "outputs": [],
   "source": [
    "'''Q4. Why LookupError class is used? Explain with an example KeyError and IndexError.'''\n",
    "'''is a built-in Python class that serves as the base class for lookup-related errors. It includes a variety of errors \n",
    "related to searching for a value within a data structure or sequence.'''"
   ]
  },
  {
   "cell_type": "code",
   "execution_count": 6,
   "id": "6deeee8c-c270-4e46-b3cf-764c57afc2a7",
   "metadata": {},
   "outputs": [
    {
     "ename": "KeyError",
     "evalue": "'d'",
     "output_type": "error",
     "traceback": [
      "\u001b[0;31m---------------------------------------------------------------------------\u001b[0m",
      "\u001b[0;31mKeyError\u001b[0m                                  Traceback (most recent call last)",
      "Cell \u001b[0;32mIn[6], line 3\u001b[0m\n\u001b[1;32m      1\u001b[0m \u001b[38;5;66;03m#keyerror\u001b[39;00m\n\u001b[1;32m      2\u001b[0m my_dict \u001b[38;5;241m=\u001b[39m {\u001b[38;5;124m'\u001b[39m\u001b[38;5;124ma\u001b[39m\u001b[38;5;124m'\u001b[39m: \u001b[38;5;241m1\u001b[39m, \u001b[38;5;124m'\u001b[39m\u001b[38;5;124mb\u001b[39m\u001b[38;5;124m'\u001b[39m: \u001b[38;5;241m2\u001b[39m, \u001b[38;5;124m'\u001b[39m\u001b[38;5;124mc\u001b[39m\u001b[38;5;124m'\u001b[39m: \u001b[38;5;241m3\u001b[39m}\n\u001b[0;32m----> 3\u001b[0m value \u001b[38;5;241m=\u001b[39m \u001b[43mmy_dict\u001b[49m\u001b[43m[\u001b[49m\u001b[38;5;124;43m'\u001b[39;49m\u001b[38;5;124;43md\u001b[39;49m\u001b[38;5;124;43m'\u001b[39;49m\u001b[43m]\u001b[49m\n",
      "\u001b[0;31mKeyError\u001b[0m: 'd'"
     ]
    }
   ],
   "source": [
    "#keyerror\n",
    "my_dict = {'a': 1, 'b': 2, 'c': 3}\n",
    "value = my_dict['d']"
   ]
  },
  {
   "cell_type": "code",
   "execution_count": 7,
   "id": "38524887-ae95-4ab9-b72f-f04fbaae6051",
   "metadata": {},
   "outputs": [
    {
     "ename": "IndexError",
     "evalue": "list index out of range",
     "output_type": "error",
     "traceback": [
      "\u001b[0;31m---------------------------------------------------------------------------\u001b[0m",
      "\u001b[0;31mIndexError\u001b[0m                                Traceback (most recent call last)",
      "Cell \u001b[0;32mIn[7], line 3\u001b[0m\n\u001b[1;32m      1\u001b[0m \u001b[38;5;66;03m#inderxerror\u001b[39;00m\n\u001b[1;32m      2\u001b[0m l \u001b[38;5;241m=\u001b[39m [\u001b[38;5;241m1\u001b[39m,\u001b[38;5;241m2\u001b[39m,\u001b[38;5;241m3\u001b[39m,\u001b[38;5;241m4\u001b[39m,\u001b[38;5;241m5\u001b[39m]\n\u001b[0;32m----> 3\u001b[0m v \u001b[38;5;241m=\u001b[39m \u001b[43ml\u001b[49m\u001b[43m[\u001b[49m\u001b[38;5;241;43m7\u001b[39;49m\u001b[43m]\u001b[49m\n\u001b[1;32m      4\u001b[0m v\n",
      "\u001b[0;31mIndexError\u001b[0m: list index out of range"
     ]
    }
   ],
   "source": [
    "#inderxerror\n",
    "l = [1,2,3,4,5]\n",
    "v = l[7]\n",
    "v"
   ]
  },
  {
   "cell_type": "code",
   "execution_count": 9,
   "id": "23ff591f-4339-4c55-a690-a18eade35d85",
   "metadata": {},
   "outputs": [
    {
     "name": "stdout",
     "output_type": "stream",
     "text": [
      "Module not found error\n"
     ]
    }
   ],
   "source": [
    "'''Q5. Explain ImportError. What is ModuleNotFoundError?'''\n",
    "'''ImportError is a built-in Python exception that occurs when an imported module or attribute cannot be found or loaded\n",
    "ModuleNotFoundError is raised when a module is not found in any of the directories included in the Python path. It is a subclass of ImportError'''\n",
    "try:\n",
    "    import sairaj\n",
    "except ModuleNotFoundError:\n",
    "    print(\"Module not found error\")\n",
    "    "
   ]
  },
  {
   "cell_type": "code",
   "execution_count": null,
   "id": "378bf3e9-eaac-4963-a114-238a5c8f1f85",
   "metadata": {},
   "outputs": [],
   "source": [
    "'''Q6. List down some best practices for exception handling in python.'''\n",
    "'''\n",
    "1.Catch only the exceptions that you can handle\n",
    "2.Handle exceptions as close to the source as possible\n",
    "3.Use descriptive exception messages\n",
    "4.Use finally block to clean up resources\n",
    "5.Don't catch exceptions silently\n",
    "6.Use context managers\n",
    "7.Use specific exception types'''"
   ]
  }
 ],
 "metadata": {
  "kernelspec": {
   "display_name": "Python 3 (ipykernel)",
   "language": "python",
   "name": "python3"
  },
  "language_info": {
   "codemirror_mode": {
    "name": "ipython",
    "version": 3
   },
   "file_extension": ".py",
   "mimetype": "text/x-python",
   "name": "python",
   "nbconvert_exporter": "python",
   "pygments_lexer": "ipython3",
   "version": "3.10.8"
  }
 },
 "nbformat": 4,
 "nbformat_minor": 5
}
