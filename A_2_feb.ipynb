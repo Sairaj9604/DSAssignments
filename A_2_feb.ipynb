{
 "cells": [
  {
   "cell_type": "raw",
   "id": "ec01bf54-1461-4861-9957-74ad612526cc",
   "metadata": {},
   "source": [
    "Q1  Explain with an example each when to use a for loop and a while loop"
   ]
  },
  {
   "cell_type": "raw",
   "id": "27c9ca63-c29a-4db7-a664-43e350017a73",
   "metadata": {},
   "source": [
    "Answer:\n",
    "The for loop is used when we already know the number of iterations, which means when we know how many times a statement has to be executed. \n",
    "That is why we have to specify the ending point in the for loop initialization. \n",
    "When we need to end the loop on a condition other than the number of times, we use a while loop.\n",
    "Ex of for loop\n",
    "n = [1, 2, 3]  # Initialization\n",
    "for i in n:  # Condition and Updation\n",
    "    print(i)\n",
    "\n",
    "Ex of while loop\n",
    "\n",
    "i = 1  # Initialization\n",
    "while i < 6:  # Condition\n",
    "    print(i)\n",
    "    i += 1  # Updation"
   ]
  },
  {
   "cell_type": "raw",
   "id": "2e352ca0-7d5f-42b6-9a75-f9db2cc78f8a",
   "metadata": {},
   "source": [
    "Q2 Write a python program to print the sum and product of the first 10 natural numbers using for\n",
    "and while loop."
   ]
  },
  {
   "cell_type": "code",
   "execution_count": 1,
   "id": "74c3196d-f509-4215-9200-df5071de0623",
   "metadata": {},
   "outputs": [
    {
     "name": "stdout",
     "output_type": "stream",
     "text": [
      "10\n",
      "3628800\n"
     ]
    }
   ],
   "source": [
    "asum =0\n",
    "aproduct = 1\n",
    "for i in range(1,11):\n",
    "    asum +=1\n",
    "    aproduct = aproduct*i\n",
    "print(asum)\n",
    "print(aproduct)\n"
   ]
  },
  {
   "cell_type": "code",
   "execution_count": 2,
   "id": "8ac18d7c-1e32-4f86-842a-23613262f134",
   "metadata": {},
   "outputs": [
    {
     "name": "stdout",
     "output_type": "stream",
     "text": [
      "55\n",
      "3628800\n"
     ]
    }
   ],
   "source": [
    "asum = 0\n",
    "aproduct = 1\n",
    "num = 10\n",
    "while(num>0):\n",
    "    asum +=num\n",
    "    aproduct = aproduct*num\n",
    "    num = num-1\n",
    "print(asum)\n",
    "print(aproduct)"
   ]
  },
  {
   "cell_type": "raw",
   "id": "9e590fc6-6328-4f11-a66a-cdc7e43b0ba3",
   "metadata": {},
   "source": [
    "Q 3 Electricity bill "
   ]
  },
  {
   "cell_type": "code",
   "execution_count": 3,
   "id": "9e7873b1-98e8-4a22-96ac-ca5e24ec3345",
   "metadata": {},
   "outputs": [
    {
     "name": "stdin",
     "output_type": "stream",
     "text": [
      " 310\n"
     ]
    },
    {
     "name": "stdout",
     "output_type": "stream",
     "text": [
      "2250\n"
     ]
    }
   ],
   "source": [
    "a = int(input())\n",
    "r1 = 4.5\n",
    "r2 = 6\n",
    "r3 = 10\n",
    "r4 = 20\n",
    "if(a<100):\n",
    "    print(a*r1)\n",
    "elif(a>=100 and a<200):\n",
    "    total = r1*100+r2*(a-100)\n",
    "    print(int(total))\n",
    "elif(a>=200 and a<300):\n",
    "    total = r1*100+r2*100+ r3*(a-200)\n",
    "    print(int(total))\n",
    "else:\n",
    "    total = r1*100+r2*100+r3*100+r4*(a-300)\n",
    "    print(int(total))"
   ]
  },
  {
   "cell_type": "raw",
   "id": "d9a78d4c-362f-42b1-bd58-7f4f78b79962",
   "metadata": {},
   "source": [
    "Q 4 cube of 100 divisible by 4 and 5\n"
   ]
  },
  {
   "cell_type": "code",
   "execution_count": 4,
   "id": "5074dc1d-11f6-451d-83bb-5c195dd07049",
   "metadata": {},
   "outputs": [
    {
     "name": "stdout",
     "output_type": "stream",
     "text": [
      "[0, 64, 125, 512, 1000, 1728, 3375, 4096, 8000, 13824, 15625, 21952, 27000, 32768, 42875, 46656, 64000, 85184, 91125, 110592, 125000, 140608, 166375, 175616, 216000, 262144, 274625, 314432, 343000, 373248, 421875, 438976, 512000, 592704, 614125, 681472, 729000, 778688, 857375, 884736]\n"
     ]
    }
   ],
   "source": [
    "l = [i for i in range(1,100)]\n",
    "cube =[]\n",
    "for i in range(len(l)):\n",
    "    cube.append(i**3)\n",
    "#print(cube)\n",
    "sol = []\n",
    "for j in range(len(cube)):\n",
    "    if (j%4==0 or j%5==0):\n",
    "        sol.append(cube[j])\n",
    "print(sol)\n",
    "    "
   ]
  },
  {
   "cell_type": "raw",
   "id": "c5e24e33-fb46-4e12-b00b-a2c9fd267091",
   "metadata": {},
   "source": [
    "Q 5 count vowels in string\n"
   ]
  },
  {
   "cell_type": "code",
   "execution_count": 6,
   "id": "99dc1226-fd5e-450f-8f3f-47616dda471c",
   "metadata": {},
   "outputs": [
    {
     "name": "stdout",
     "output_type": "stream",
     "text": [
      "12\n"
     ]
    }
   ],
   "source": [
    "s = \"I want to become a data scientist\"\n",
    "s = s.lower()\n",
    "count = 0\n",
    "for i in range(len(s)):\n",
    "    if(s[i] in ('a','e','i','o','u')):\n",
    "        count +=1\n",
    "print(count)"
   ]
  }
 ],
 "metadata": {
  "kernelspec": {
   "display_name": "Python 3 (ipykernel)",
   "language": "python",
   "name": "python3"
  },
  "language_info": {
   "codemirror_mode": {
    "name": "ipython",
    "version": 3
   },
   "file_extension": ".py",
   "mimetype": "text/x-python",
   "name": "python",
   "nbconvert_exporter": "python",
   "pygments_lexer": "ipython3",
   "version": "3.10.8"
  }
 },
 "nbformat": 4,
 "nbformat_minor": 5
}
