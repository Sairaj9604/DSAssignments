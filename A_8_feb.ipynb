{
 "cells": [
  {
   "cell_type": "code",
   "execution_count": null,
   "id": "3cbe053d-cf20-4535-9b9e-a6d601f6259b",
   "metadata": {},
   "outputs": [],
   "source": [
    "\"\"\"Q1. What is Abstraction in OOps? Explain with an example.\"\"\""
   ]
  },
  {
   "cell_type": "code",
   "execution_count": 1,
   "id": "57264087-f03c-4700-986d-348845a4980a",
   "metadata": {},
   "outputs": [
    {
     "data": {
      "text/plain": [
       "'\\na process of handling complexity by hiding unnecessary information from the user.\\n'"
      ]
     },
     "execution_count": 1,
     "metadata": {},
     "output_type": "execute_result"
    }
   ],
   "source": [
    "\"\"\"\n",
    "a process of handling complexity by hiding unnecessary information from the user.\n",
    "\"\"\"\n"
   ]
  },
  {
   "cell_type": "code",
   "execution_count": 4,
   "id": "04a4030a-f3b7-4e18-a833-787c3142e74b",
   "metadata": {},
   "outputs": [
    {
     "name": "stdout",
     "output_type": "stream",
     "text": [
      "moodel1\n",
      "tesla\n",
      "200\n"
     ]
    }
   ],
   "source": [
    "class car:\n",
    "    def __init__(self,make,model):\n",
    "        self._make = make\n",
    "        self._model= model\n",
    "    def get_make(self):\n",
    "        return self._make\n",
    "    def get_model(self):\n",
    "        return self._model\n",
    "class electric(car):\n",
    "    def __init__(self,make,model,battery):\n",
    "        car.__init__(self,make,model)\n",
    "        self._battery = battery\n",
    "    def get_battery(self):\n",
    "        return self._battery\n",
    "mycar = electric(\"tesla\",\"moodel1\",200)\n",
    "print(mycar.get_model())\n",
    "print(mycar.get_make())\n",
    "print(mycar.get_battery())\n",
    "        "
   ]
  },
  {
   "cell_type": "code",
   "execution_count": null,
   "id": "a34edb9a-b498-45f5-9d69-496c11de55ed",
   "metadata": {},
   "outputs": [],
   "source": [
    "\"\"\"Q2. Differentiate between Abstraction and Encapsulation. Explain with an example.\"\"\""
   ]
  },
  {
   "cell_type": "code",
   "execution_count": 6,
   "id": "7d019697-03ac-465d-ba1a-1778f89e70dd",
   "metadata": {},
   "outputs": [
    {
     "data": {
      "text/plain": [
       "4500"
      ]
     },
     "execution_count": 6,
     "metadata": {},
     "output_type": "execute_result"
    }
   ],
   "source": [
    "\"\"\"Abstraction refers to the process of hiding the implementation details of an object or class and only exposing the necessary information to the outside world. The goal of abstraction is to simplify the code by reducing the complexity of the implementation and making it easier to understand.\n",
    "\n",
    "Encapsulation refers to the bundling of data and functions that operate on that data within a single unit, or object. The main goal of encapsulation is to provide a secure mechanism for protecting the data and maintaining the consistency of the object's state.\"\"\"\n",
    "class bank:\n",
    "    def __init__(self,balance):\n",
    "        self._balance = balance\n",
    "    def deposit(self,amount):\n",
    "        self._balance += amount\n",
    "    def withdraw(self,amount):\n",
    "        if self._balance >= amount:\n",
    "            self._balance -= amount\n",
    "        else:\n",
    "            return (\"Invalid Value/amount\")\n",
    "    def get_balance(self):\n",
    "        return self._balance\n",
    "account = bank(5000)\n",
    "account.deposit(500)\n",
    "account.withdraw(1000)\n",
    "account.get_balance()\n",
    "        "
   ]
  },
  {
   "cell_type": "code",
   "execution_count": null,
   "id": "6caf598c-9897-46e9-900e-da4ff59d9986",
   "metadata": {},
   "outputs": [],
   "source": [
    "\"\"\"Q3 What is abc module in python? Why is it used?\"\"\"\n",
    "\"\"\"The abc (Abstract Base Classes) module in Python is used to define abstract base classes, which provide a way to define a common \n",
    "interface for a set of related objects. An abstract base class is a class that cannot be instantiated, but instead is used as a \n",
    "blueprint for other classes. The other classes inherit from the abstract base class and provide a concrete implementation of the \n",
    "methods defined in the abstract base class.\n",
    "\n",
    "The main purpose of the abc module is to provide a way to define abstract classes in Python. By defining abstract classes, it \n",
    "becomes possible to enforce a common interface for a set of related objects, which can make it easier to write and maintain code. \n",
    "For example, if you have several classes that all represent different types of shapes, you could define an abstract base class Shape \n",
    "that provides a common interface for all shapes (e.g., a calculate_area method). This way, all classes that represent shapes are \n",
    "guaranteed to have the same methods, even though their implementation may be different.\"\"\"\n"
   ]
  },
  {
   "cell_type": "code",
   "execution_count": null,
   "id": "cdf7851a-ef1c-4981-b477-035471424377",
   "metadata": {},
   "outputs": [],
   "source": [
    "'''Q4. How can we achieve data abstraction?'''\n",
    "\"\"\"Encapsulation: Encapsulation is the process of bundling data and functions that operate on that data within a single unit, or \n",
    "object. By encapsulating data, you can prevent it from being directly accessed and modified from outside the object. \n",
    "In Python, this can be achieved by defining instance variables as private (i.e., with a leading underscore), which makes them inaccessible \n",
    "from outside the object.\"\"\"\n",
    "\"\"\"\n",
    "Getters and Setters: Getters and setters are methods that allow you to access and modify an object's data in a controlled manner. \n",
    "By using getters and setters, you can control how data is accessed and modified, which can help ensure the consistency and integrity of \n",
    "the object's state.\n",
    "\"\"\"\n"
   ]
  },
  {
   "cell_type": "code",
   "execution_count": null,
   "id": "dfd5328f-672e-42c5-bff0-ddc03d0c88ff",
   "metadata": {},
   "outputs": [],
   "source": [
    "\"\"\"Q5. Can we create an instance of an abstract class? Explain your answer.\"\"\"\n",
    "\"\"\"No, we cannot create an instance of an abstract class in Python. An abstract class is a class that is meant to be used as a \n",
    "blueprint for other classes, but cannot be instantiated on its own. The purpose of an abstract class is to provide a common interface for \n",
    "a set of related objects, and to enforce the implementation of certain methods in any concrete classes that inherit from it.\"\"\""
   ]
  }
 ],
 "metadata": {
  "kernelspec": {
   "display_name": "Python 3 (ipykernel)",
   "language": "python",
   "name": "python3"
  },
  "language_info": {
   "codemirror_mode": {
    "name": "ipython",
    "version": 3
   },
   "file_extension": ".py",
   "mimetype": "text/x-python",
   "name": "python",
   "nbconvert_exporter": "python",
   "pygments_lexer": "ipython3",
   "version": "3.10.8"
  }
 },
 "nbformat": 4,
 "nbformat_minor": 5
}
