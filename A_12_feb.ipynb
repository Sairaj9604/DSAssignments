{
 "cells": [
  {
   "cell_type": "code",
   "execution_count": null,
   "id": "bf25dcdc-506d-4cad-9430-76bc9a0f8f2b",
   "metadata": {},
   "outputs": [],
   "source": [
    "'''Q1. What is an Exception in python? Write the difference between Exceptions and syntax errors'''\n",
    "#exception\n",
    "'''an exception is an event that occurs during the execution of a program that disrupts the normal flow of the program's instructions\n",
    "Exceptions are raised when an error occurs, such as when trying to divide by zero, accessing an index that is out of bounds, or trying \n",
    "to open a file that does not exist'''\n",
    "#syntax error\n",
    "'''\n",
    "are errors that occur when the code does not conform to the rules of the Python language. These errors are detected by the Python interpreter \n",
    "before the code is executed and are indicated by a syntax error message that specifies where the error occurred in the code\n",
    "'''"
   ]
  },
  {
   "cell_type": "code",
   "execution_count": 1,
   "id": "b99eaa55-270d-40ba-b618-9885a4663efb",
   "metadata": {},
   "outputs": [
    {
     "ename": "ZeroDivisionError",
     "evalue": "division by zero",
     "output_type": "error",
     "traceback": [
      "\u001b[0;31m---------------------------------------------------------------------------\u001b[0m",
      "\u001b[0;31mZeroDivisionError\u001b[0m                         Traceback (most recent call last)",
      "Cell \u001b[0;32mIn[1], line 7\u001b[0m\n\u001b[1;32m      5\u001b[0m \u001b[38;5;66;03m#ex\u001b[39;00m\n\u001b[1;32m      6\u001b[0m a \u001b[38;5;241m=\u001b[39m \u001b[38;5;241m100\u001b[39m\n\u001b[0;32m----> 7\u001b[0m \u001b[38;5;28mprint\u001b[39m(\u001b[43ma\u001b[49m\u001b[38;5;241;43m/\u001b[39;49m\u001b[38;5;241;43m0\u001b[39;49m)\n",
      "\u001b[0;31mZeroDivisionError\u001b[0m: division by zero"
     ]
    }
   ],
   "source": [
    "'''Q2 what happens if exception is not handled? explain with example'''\n",
    "\n",
    "'''If an exception is not handled in a Python program, the Python interpreter will stop the execution of the program and display an error \n",
    "message indicating the type of exception that was raised and where it occurred in the code'''\n",
    "#ex\n",
    "a = 100\n",
    "print(a/0)"
   ]
  },
  {
   "cell_type": "code",
   "execution_count": 2,
   "id": "abfd46e3-1f8e-4ff2-abbe-c66263e6688a",
   "metadata": {},
   "outputs": [
    {
     "name": "stdout",
     "output_type": "stream",
     "text": [
      "You are dividing by zero\n"
     ]
    }
   ],
   "source": [
    "'''Q3 which python statements are used to catch and and handle exception ? explain with example'''\n",
    "'''try-except'''\n",
    "def div(a,b):\n",
    "    try:\n",
    "        result = a//b\n",
    "        print(\"Your answer is\",result)\n",
    "    except ZeroDivisionError:\n",
    "        print(\"You are dividing by zero\")\n",
    "        \n",
    "div(3,0)"
   ]
  },
  {
   "cell_type": "code",
   "execution_count": 3,
   "id": "308de3d1-0d21-4db4-af43-7db64997fb26",
   "metadata": {},
   "outputs": [
    {
     "name": "stdout",
     "output_type": "stream",
     "text": [
      "5\n"
     ]
    }
   ],
   "source": [
    "'''Q4 Explain with example \n",
    "A. try and else'''\n",
    "def ans(a,b):\n",
    "    try:\n",
    "        result = a//b\n",
    "    except ZeroDivisionError:\n",
    "        print(\"Division by zero error\")\n",
    "    else:\n",
    "        print(result)\n",
    "ans(15,3)"
   ]
  },
  {
   "cell_type": "code",
   "execution_count": 4,
   "id": "f9af6a39-725d-41e7-8c59-7c51b4005e9d",
   "metadata": {},
   "outputs": [
    {
     "name": "stdout",
     "output_type": "stream",
     "text": [
      "Zero division error\n",
      "this will execute irrespective to the try-except block\n"
     ]
    }
   ],
   "source": [
    "#finally\n",
    "def ans1(a,b):\n",
    "    try :\n",
    "        res = a//b\n",
    "    except ZeroDivisionError:\n",
    "        print(\"Zero division error\")\n",
    "    finally:\n",
    "        print(\"this will execute irrespective to the try-except block\")\n",
    "ans1(15,0)"
   ]
  },
  {
   "cell_type": "code",
   "execution_count": 5,
   "id": "d84e1309-d456-46c1-b75e-f79a08de8617",
   "metadata": {},
   "outputs": [
    {
     "ename": "ZeroDivisionError",
     "evalue": "division by zero",
     "output_type": "error",
     "traceback": [
      "\u001b[0;31m---------------------------------------------------------------------------\u001b[0m",
      "\u001b[0;31mZeroDivisionError\u001b[0m                         Traceback (most recent call last)",
      "Cell \u001b[0;32mIn[5], line 6\u001b[0m\n\u001b[1;32m      4\u001b[0m         \u001b[38;5;28;01mraise\u001b[39;00m \u001b[38;5;167;01mZeroDivisionError\u001b[39;00m(\u001b[38;5;124m\"\u001b[39m\u001b[38;5;124mdivision by zero\u001b[39m\u001b[38;5;124m\"\u001b[39m)\n\u001b[1;32m      5\u001b[0m     \u001b[38;5;28;01mreturn\u001b[39;00m a \u001b[38;5;241m/\u001b[39m b\n\u001b[0;32m----> 6\u001b[0m \u001b[43mdivide\u001b[49m\u001b[43m(\u001b[49m\u001b[38;5;241;43m15\u001b[39;49m\u001b[43m,\u001b[49m\u001b[38;5;241;43m0\u001b[39;49m\u001b[43m)\u001b[49m\n",
      "Cell \u001b[0;32mIn[5], line 4\u001b[0m, in \u001b[0;36mdivide\u001b[0;34m(a, b)\u001b[0m\n\u001b[1;32m      2\u001b[0m \u001b[38;5;28;01mdef\u001b[39;00m \u001b[38;5;21mdivide\u001b[39m(a, b):\n\u001b[1;32m      3\u001b[0m     \u001b[38;5;28;01mif\u001b[39;00m b \u001b[38;5;241m==\u001b[39m \u001b[38;5;241m0\u001b[39m:\n\u001b[0;32m----> 4\u001b[0m         \u001b[38;5;28;01mraise\u001b[39;00m \u001b[38;5;167;01mZeroDivisionError\u001b[39;00m(\u001b[38;5;124m\"\u001b[39m\u001b[38;5;124mdivision by zero\u001b[39m\u001b[38;5;124m\"\u001b[39m)\n\u001b[1;32m      5\u001b[0m     \u001b[38;5;28;01mreturn\u001b[39;00m a \u001b[38;5;241m/\u001b[39m b\n",
      "\u001b[0;31mZeroDivisionError\u001b[0m: division by zero"
     ]
    }
   ],
   "source": [
    "#raise\n",
    "def divide(a, b):\n",
    "    if b == 0:\n",
    "        raise ZeroDivisionError(\"division by zero\")\n",
    "    return a / b\n",
    "divide(15,0)"
   ]
  },
  {
   "cell_type": "code",
   "execution_count": 6,
   "id": "a5cda82c-96df-46e7-ae2f-13230d699f4a",
   "metadata": {},
   "outputs": [
    {
     "name": "stdout",
     "output_type": "stream",
     "text": [
      "Invalid input : input must be greater than 0\n"
     ]
    }
   ],
   "source": [
    "'''Q5. What are Custom Exceptions in python? What do we need Custom Exceptions? Explain with an example'''\n",
    "'''are user-defined exception classes that can be raised to signal an error or exceptional condition in your code'''\n",
    "    \n",
    "class InvalidInputError(Exception):\n",
    "    pass\n",
    "def validate_input(input_value):\n",
    "    if input_value <0:\n",
    "        raise InvalidInputError(\"Invalid input : input must be greater than 0\")\n",
    "try:\n",
    "    validate_input(-1)\n",
    "except InvalidInputError as e:\n",
    "    print(e)"
   ]
  },
  {
   "cell_type": "code",
   "execution_count": 11,
   "id": "069c9a2d-e7bf-48b2-bc85-eee2def1db09",
   "metadata": {},
   "outputs": [
    {
     "name": "stdout",
     "output_type": "stream",
     "text": [
      "Invalid input : input must be divisible by 2\n"
     ]
    }
   ],
   "source": [
    "'''Create custom exception class. Use this class to handlean exception.'''\n",
    "class InvalidInputError(Exception):\n",
    "    pass\n",
    "def validate_input(input_value):\n",
    "    if input_value %2!=0:\n",
    "        raise InvalidInputError(\"Invalid input : input must be divisible by 2\")\n",
    "    else:\n",
    "        print(\"Valid input\")\n",
    "try:\n",
    "    validate_input(501)\n",
    "except InvalidInputError as e:\n",
    "    print(e)"
   ]
  }
 ],
 "metadata": {
  "kernelspec": {
   "display_name": "Python 3 (ipykernel)",
   "language": "python",
   "name": "python3"
  },
  "language_info": {
   "codemirror_mode": {
    "name": "ipython",
    "version": 3
   },
   "file_extension": ".py",
   "mimetype": "text/x-python",
   "name": "python",
   "nbconvert_exporter": "python",
   "pygments_lexer": "ipython3",
   "version": "3.10.8"
  }
 },
 "nbformat": 4,
 "nbformat_minor": 5
}
