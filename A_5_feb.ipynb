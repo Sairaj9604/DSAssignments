{
 "cells": [
  {
   "cell_type": "raw",
   "id": "1be180c0-8f59-4017-9b41-eb5b9afa9326",
   "metadata": {},
   "source": [
    "Q1. Explain Class and Object with respect to Object-Oriented Programming. Give a suitable example."
   ]
  },
  {
   "cell_type": "raw",
   "id": "493ef91e-4340-491c-b0ff-81c7e2566406",
   "metadata": {},
   "source": [
    "A Class is like an object constructor, or a \"blueprint\" for creating objects.\n",
    "An object is called an instance of a class. For example, suppose Bike is a class then we can create objects like bike1 , bike2 , etc from the class.\n"
   ]
  },
  {
   "cell_type": "raw",
   "id": "4b124c03-a565-412d-ae5b-c84dcda9ecac",
   "metadata": {},
   "source": [
    "Q2. Name the four pillars of OOPs."
   ]
  },
  {
   "cell_type": "raw",
   "id": "6dc7d114-2f60-410b-8486-1bf5f6a0cabd",
   "metadata": {},
   "source": [
    "1. Abstraction.\n",
    "2. Encapsulation.\n",
    "3. Inheritance.\n",
    "4. Polymorphism."
   ]
  },
  {
   "cell_type": "raw",
   "id": "9b7af55d-f666-49dc-a397-810f6673f519",
   "metadata": {},
   "source": [
    "Q3. Explain why the __init__() function is used. Give a suitable example."
   ]
  },
  {
   "cell_type": "raw",
   "id": "b836dbea-984c-4965-95d7-12d41dff366e",
   "metadata": {},
   "source": [
    " It is constructor in python.The task of constructors is to initialize(assign values) to the data members of the class when an object of the class is created"
   ]
  },
  {
   "cell_type": "code",
   "execution_count": 4,
   "id": "1fa82111-a5b4-481d-9956-b2a149b117e8",
   "metadata": {},
   "outputs": [
    {
     "data": {
      "text/plain": [
       "(101, 'sairaj')"
      ]
     },
     "execution_count": 4,
     "metadata": {},
     "output_type": "execute_result"
    }
   ],
   "source": [
    "class rs:\n",
    "    def __init__(a,ida,name):\n",
    "        a.ida = ida\n",
    "        a.name = name\n",
    "    def return_details(a):\n",
    "        return a.ida,a.name\n",
    "sai = rs(101,'sairaj')\n",
    "sai.return_details()\n",
    "    "
   ]
  },
  {
   "cell_type": "raw",
   "id": "de781ed8-d275-477c-8f07-adf24a958ce3",
   "metadata": {},
   "source": [
    "Q4. Why self is used in OOPs?"
   ]
  },
  {
   "cell_type": "raw",
   "id": "0c332977-d553-4ba5-8229-686e8626ccb1",
   "metadata": {},
   "source": [
    "In object-oriented programming, whenever we define methods for a class, we use self as the first parameter in each case.\n",
    "It works as a reference to the object. Python uses the self parameter to refer to instance attributes and methods of the class."
   ]
  },
  {
   "cell_type": "raw",
   "id": "f24efcaf-8f86-4113-842f-a71bcdbe2e53",
   "metadata": {},
   "source": [
    "Q5. What is inheritance? Give an example for each type of inheritance."
   ]
  },
  {
   "cell_type": "raw",
   "id": "5619a2b6-d3fa-49a7-9559-8afb91aca4ef",
   "metadata": {},
   "source": [
    "Inheritance is a mechanism in which one class acquires the property of another class. For example, a child inherits the traits of his/her parents.\n",
    "Single Inheritance\n",
    "Multiple Inheritance\n",
    "Multilevel Inheritance\n",
    "Hierarchical Inheritance\n",
    "Hybrid Inheritance"
   ]
  }
 ],
 "metadata": {
  "kernelspec": {
   "display_name": "Python 3 (ipykernel)",
   "language": "python",
   "name": "python3"
  },
  "language_info": {
   "codemirror_mode": {
    "name": "ipython",
    "version": 3
   },
   "file_extension": ".py",
   "mimetype": "text/x-python",
   "name": "python",
   "nbconvert_exporter": "python",
   "pygments_lexer": "ipython3",
   "version": "3.10.8"
  }
 },
 "nbformat": 4,
 "nbformat_minor": 5
}
