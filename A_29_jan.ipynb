{
 "cells": [
  {
   "cell_type": "raw",
   "id": "6149afdd-6d4c-468d-8787-e2963aaf4038",
   "metadata": {},
   "source": [
    "Q1 who develope python"
   ]
  },
  {
   "cell_type": "raw",
   "id": "2924c816-45cc-4ce0-b0e1-d86d4f88d0a7",
   "metadata": {},
   "source": [
    "Guido van Rossum"
   ]
  },
  {
   "cell_type": "raw",
   "id": "b5116123-d196-478b-9dd2-c277e3b0085b",
   "metadata": {},
   "source": [
    "Q2 which type of programming does python support"
   ]
  },
  {
   "cell_type": "raw",
   "id": "6c62ad09-5b47-43bc-b59d-006b91f5008e",
   "metadata": {},
   "source": [
    "Object oriented"
   ]
  },
  {
   "cell_type": "raw",
   "id": "751a51dc-639c-43fc-b93b-303924dd2132",
   "metadata": {},
   "source": [
    "Q3 is python case sensative when dealing with identifiers"
   ]
  },
  {
   "cell_type": "raw",
   "id": "37696664-a5bf-424a-b01b-b4fa48028b09",
   "metadata": {},
   "source": [
    "Yes,it is case sensative language "
   ]
  },
  {
   "cell_type": "raw",
   "id": "bb8a18b6-b6d3-4f01-9eb3-38b45a4bd854",
   "metadata": {},
   "source": [
    "Q4 Correct extension of python file"
   ]
  },
  {
   "cell_type": "raw",
   "id": "240c8299-11b3-476b-8b2c-5c4cd9347a0f",
   "metadata": {},
   "source": [
    ".py"
   ]
  },
  {
   "cell_type": "raw",
   "id": "4699e316-f460-44e7-8aa4-9df3b3105ae2",
   "metadata": {},
   "source": [
    "Q5 is python compiled or interpreter"
   ]
  },
  {
   "cell_type": "raw",
   "id": "67d223b6-65b0-4fee-ab58-dbc00540549c",
   "metadata": {},
   "source": [
    "Interpreter"
   ]
  },
  {
   "cell_type": "raw",
   "id": "d995a239-ccc3-476c-81a2-d660fbd73b29",
   "metadata": {},
   "source": [
    "Q6 name a few block of code used to define in python language?"
   ]
  },
  {
   "cell_type": "raw",
   "id": "d4085061-bd5b-401f-849a-d8540c7d0a41",
   "metadata": {},
   "source": [
    "a module, a function body, and a class definition"
   ]
  },
  {
   "cell_type": "raw",
   "id": "0e9a078f-aa8f-445a-b35d-c7daaf021d65",
   "metadata": {},
   "source": [
    "Q7 State a character used to give single line comment"
   ]
  },
  {
   "cell_type": "raw",
   "id": "9eb25a39-846c-4463-bbe6-2fa817733ed7",
   "metadata": {},
   "source": [
    "#"
   ]
  },
  {
   "cell_type": "raw",
   "id": "f0b06ac1-d65d-4a2c-bb32-6d9383e3681c",
   "metadata": {},
   "source": [
    "Q8 mention function used to find version of python"
   ]
  },
  {
   "cell_type": "raw",
   "id": "a0962f78-cbaf-44ab-b7e3-34979a44cd3c",
   "metadata": {},
   "source": [
    "python --version"
   ]
  },
  {
   "cell_type": "raw",
   "id": "10629b08-ff5b-4180-a7ad-b5157a53cc70",
   "metadata": {},
   "source": [
    "Q9 python supports creation of anonynomus function at run time using a construct called"
   ]
  },
  {
   "cell_type": "raw",
   "id": "25b3d232-6294-4d2b-b75c-9d2c9d2800eb",
   "metadata": {},
   "source": [
    "lambda"
   ]
  },
  {
   "cell_type": "raw",
   "id": "9811b0df-e228-4d1b-97ae-1e0659a2afe7",
   "metadata": {},
   "source": [
    "Q 10 what does pip stand for in python"
   ]
  },
  {
   "cell_type": "raw",
   "id": "ebb46df7-b0b7-46f8-9b2d-6997ec9135f3",
   "metadata": {},
   "source": [
    "pip is the standard package manager for Python. It allows you to install and manage additional packages that are not part of the Python standard library."
   ]
  },
  {
   "cell_type": "raw",
   "id": "493e35f2-2908-4c3d-af18-c89882a049ac",
   "metadata": {},
   "source": [
    "Q11 Mention a few built in function in python"
   ]
  },
  {
   "cell_type": "raw",
   "id": "e33acc15-adc5-4d34-b853-fb1663c5d43b",
   "metadata": {},
   "source": [
    "filter(),sort,append,add,extend,remove,replace,bool,islower,isupper,isnum,isalnum,isalpha"
   ]
  },
  {
   "cell_type": "raw",
   "id": "05b234ed-b939-41a3-8ac4-6180f8a43d30",
   "metadata": {},
   "source": [
    "Q12 What is maximum possible length of identifier in python"
   ]
  },
  {
   "cell_type": "raw",
   "id": "4025d85a-8da0-4147-8a13-ca0bad9cc91b",
   "metadata": {},
   "source": [
    "79 characters"
   ]
  },
  {
   "cell_type": "raw",
   "id": "ca376764-0142-49ba-9eb8-317776c6cec8",
   "metadata": {},
   "source": [
    "Q13 benifites of python"
   ]
  },
  {
   "cell_type": "raw",
   "id": "668f3de4-5f81-4a09-a9ce-a1c6080adfde",
   "metadata": {},
   "source": [
    "easy to use,easy to write,oops language"
   ]
  },
  {
   "cell_type": "raw",
   "id": "3e158075-de7d-4dcb-9c9f-f557eca72edc",
   "metadata": {},
   "source": [
    "Q14 how memory is managed in python"
   ]
  },
  {
   "cell_type": "raw",
   "id": "51046e09-d64d-421b-9879-1bddaf00f872",
   "metadata": {},
   "source": [
    "Memory management in Python involves a private heap containing all Python objects and data structures. The management of this private heap is ensured internally by the Python memory manager"
   ]
  },
  {
   "cell_type": "raw",
   "id": "4787814a-9b3c-4803-91ba-d7e6f5a82bfd",
   "metadata": {},
   "source": [
    "Q15 How to install python"
   ]
  },
  {
   "cell_type": "raw",
   "id": "60c715a7-7345-43b5-ad6a-ea6de8b3596a",
   "metadata": {},
   "source": [
    " Double click on the downloaded file and install Python for all users, and ensure that Python is added to your path. Click on Install now to begin\n",
    " After the installation is complete, click Disable path length limit and then Close"
   ]
  },
  {
   "cell_type": "raw",
   "id": "85616d05-2728-4c8a-ad9f-91df887bbcd8",
   "metadata": {},
   "source": [
    "Q 16 is indentation required in python"
   ]
  },
  {
   "cell_type": "raw",
   "id": "d995c3d4-48f0-4b6e-b10e-226fd7abd6f0",
   "metadata": {},
   "source": [
    "YES,Indentation refers to the spaces at the beginning of a code line. Where in other programming languages the indentation in code is for readability only, the indentation in Python is very important."
   ]
  }
 ],
 "metadata": {
  "kernelspec": {
   "display_name": "Python 3 (ipykernel)",
   "language": "python",
   "name": "python3"
  },
  "language_info": {
   "codemirror_mode": {
    "name": "ipython",
    "version": 3
   },
   "file_extension": ".py",
   "mimetype": "text/x-python",
   "name": "python",
   "nbconvert_exporter": "python",
   "pygments_lexer": "ipython3",
   "version": "3.10.8"
  }
 },
 "nbformat": 4,
 "nbformat_minor": 5
}
