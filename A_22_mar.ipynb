{
 "cells": [
  {
   "cell_type": "code",
   "execution_count": null,
   "id": "41098833-5599-4426-9068-5c2aec5ea692",
   "metadata": {},
   "outputs": [],
   "source": [
    "\"\"\"Q1. Pearson correlation coefficient is a measure of the linear relationship between two variables. Suppose\n",
    "you have collected data on the amount of time students spend studying for an exam and their final exam\n",
    "scores. Calculate the Pearson correlation coefficient between these two variables and interpret the result.\"\"\""
   ]
  },
  {
   "cell_type": "code",
   "execution_count": null,
   "id": "37933df9-85d4-446e-8ddb-15210080a27a",
   "metadata": {},
   "outputs": [],
   "source": [
    "\"\"\"To calculate the Pearson correlation coefficient between the amount of time students spend studying for an exam and their final exam scores, you need to have paired data for each student. Let's say you have collected data for 50 students and have their study time and exam score pairs. Here are the steps to calculate the correlation coefficient:\n",
    "\n",
    "Calculate the mean of the study time and exam score data.\n",
    "Calculate the standard deviation of the study time and exam score data.\n",
    "For each student, calculate the deviation of their study time and exam score from the mean.\n",
    "Multiply the deviations of study time and exam score for each student and sum them up.\n",
    "Divide the result by the product of the standard deviations of the study time and exam score data.\n",
    "The result is the Pearson correlation coefficient.\n",
    "The Pearson correlation coefficient ranges from -1 to 1, where -1 indicates a perfect negative correlation, 0 indicates no correlation, and 1 indicates a perfect positive correlation.\n",
    "\n",
    "If the Pearson correlation coefficient is positive, it means that as the amount of time students spend studying for an exam increases, their final exam scores tend to increase as well. If the coefficient is negative, it means that as the amount of time students spend studying for an exam increases, their final exam scores tend to decrease.\n",
    "\n",
    "If the Pearson correlation coefficient is close to 0, it means that there is no linear relationship between the two variables, and the amount of time students spend studying for an exam does not have a significant impact on their final exam scores.\"\"\""
   ]
  },
  {
   "cell_type": "code",
   "execution_count": null,
   "id": "c89bf7c7-3129-43ac-b3e3-a8d03331240c",
   "metadata": {},
   "outputs": [],
   "source": [
    "\"\"\"Q2. Spearman's rank correlation is a measure of the monotonic relationship between two variables.\n",
    "Suppose you have collected data on the amount of sleep individuals get each night and their overall job\n",
    "satisfaction level on a scale of 1 to 10. Calculate the Spearman's rank correlation between these two\n",
    "variables and interpret the result.\"\"\""
   ]
  },
  {
   "cell_type": "code",
   "execution_count": null,
   "id": "c00d9d86-e084-4d51-9e26-408039400cba",
   "metadata": {},
   "outputs": [],
   "source": [
    "\"\"\"To calculate Spearman's rank correlation between the amount of sleep individuals get each night and their overall job satisfaction level, you need to first rank the data for each variable separately, from lowest to highest. Then, you need to calculate the difference between the ranks for each individual and square those differences. The Spearman's rank correlation coefficient is equal to 1 minus 6 times the sum of the squared differences divided by the product of the sample size and the square of the sample size minus 1.\n",
    "\n",
    "Once you have calculated the Spearman's rank correlation coefficient, it will be between -1 and 1, where -1 indicates a perfect negative monotonic relationship, 0 indicates no monotonic relationship, and 1 indicates a perfect positive monotonic relationship.\n",
    "\n",
    "If the Spearman's rank correlation coefficient is positive, it means that as the amount of sleep individuals get each night increases, their overall job satisfaction level tends to increase as well. If the coefficient is negative, it means that as the amount of sleep individuals get each night increases, their overall job satisfaction level tends to decrease.\n",
    "\n",
    "If the Spearman's rank correlation coefficient is close to 0, it means that there is no monotonic relationship between the two variables, and the amount of sleep individuals get each night does not have a significant impact on their overall job satisfaction level.\"\"\""
   ]
  },
  {
   "cell_type": "code",
   "execution_count": null,
   "id": "13739754-24f1-434d-85cc-290a71637e48",
   "metadata": {},
   "outputs": [],
   "source": [
    "\"\"\"Q3. Suppose you are conducting a study to examine the relationship between the number of hours of\n",
    "exercise per week and body mass index (BMI) in a sample of adults. You collected data on both variables\n",
    "for 50 participants. Calculate the Pearson correlation coefficient and the Spearman's rank correlation\n",
    "between these two variables and compare the results.\"\"\""
   ]
  },
  {
   "cell_type": "code",
   "execution_count": null,
   "id": "8e82a2a9-4c3e-4722-9c15-8bf84c6fe665",
   "metadata": {},
   "outputs": [],
   "source": [
    "\"\"\"For Pearson correlation, you need to have paired data for each participant. Once you have paired data, you can calculate the Pearson correlation coefficient using the following formula:\n",
    "\n",
    "r = (NΣXY - ΣXΣY) / [√(NΣX2 - (ΣX)2) × √(NΣY2 - (ΣY)2)]\n",
    "\n",
    "where N is the number of participants, ΣXY is the sum of the products of the paired values, ΣX and ΣY are the sums of the X and Y values, ΣX2 and ΣY2 are the sums of the squares of the X and Y values.\n",
    "\n",
    "For Spearman's rank correlation, you need to first rank the data for each variable separately, from lowest to highest, and then calculate the differences between the ranks for each participant. Then you can calculate the Spearman's rank correlation coefficient using the following formula:\n",
    "\n",
    "r = 1 - (6Σd2 / n(n2 - 1))\n",
    "\n",
    "where Σd2 is the sum of the squared differences between the ranks and n is the number of participants.\n",
    "\n",
    "Once you have calculated both correlation coefficients, you can compare the results. The Pearson correlation coefficient measures the linear relationship between two variables, while the Spearman's rank correlation coefficient measures the monotonic relationship between two variables. If the relationship between the number of hours of exercise per week and BMI is linear, then the Pearson correlation coefficient will be a better measure of the relationship. If the relationship is not linear, but rather monotonic, then the Spearman's rank correlation coefficient will be a better measure of the relationship.\n",
    "\n",
    "If the Pearson correlation coefficient is close to 1, it means that there is a strong positive linear relationship between the number of hours of exercise per week and BMI, which indicates that as the number of hours of exercise per week increases, BMI tends to increase as well. If the coefficient is close to -1, it means that there is a strong negative linear relationship between the number of hours of exercise per week and BMI, which indicates that as the number of hours of exercise per week increases, BMI tends to decrease. If the coefficient is close to 0, it means that there is no linear relationship between the two variables.\n",
    "\n",
    "If the Spearman's rank correlation coefficient is close to 1, it means that there is a strong positive monotonic relationship between the number of hours of exercise per week and BMI, which indicates that as the number of hours of exercise per week increases, BMI tends to increase as well. If the coefficient is close to -1, it means that there is a strong negative monotonic relationship between the number of hours of exercise per week and BMI, which indicates that as the number of hours of exercise per week increases, BMI tends to decrease. If the coefficient is close to 0, it means that there is no monotonic relationship between the two variables.\"\"\""
   ]
  },
  {
   "cell_type": "code",
   "execution_count": null,
   "id": "8c5add2b-6ea0-4866-bb8f-b054b8076fd3",
   "metadata": {},
   "outputs": [],
   "source": [
    "\"\"\"Q4. A researcher is interested in examining the relationship between the number of hours individuals\n",
    "spend watching television per day and their level of physical activity. The researcher collected data on\n",
    "both variables from a sample of 50 participants. Calculate the Pearson correlation coefficient between\n",
    "these two variables.\"\"\""
   ]
  },
  {
   "cell_type": "code",
   "execution_count": null,
   "id": "2e408323-cbfd-41d9-b857-64cdb3a4840b",
   "metadata": {},
   "outputs": [],
   "source": [
    "\"\"\"r = (NΣXY - ΣXΣY) / [√(NΣX2 - (ΣX)2) × √(NΣY2 - (ΣY)2)]\n",
    "\n",
    "To calculate the Pearson correlation coefficient:\n",
    "\n",
    "Calculate the sums of X and Y:\n",
    "ΣX = 2 + 3 + 1 + 4 + 2 + ... + x50\n",
    "ΣX = [sum of all hours of TV per day]\n",
    "\n",
    "ΣY = 5 + 4 + 6 + 3 + 5 + ... + y50\n",
    "ΣY = [sum of all physical activity levels]\n",
    "\n",
    "Calculate the sum of the products of the paired values:\n",
    "ΣXY = (2 * 5) + (3 * 4) + (1 * 6) + (4 * 3) + (2 * 5) + ... + (x50 * y50)\n",
    "\n",
    "Calculate the sum of the squares of X and Y:\n",
    "ΣX2 = 22 + 32 + 12 + 42 + 22 + ... + x502\n",
    "ΣX2 = [sum of all hours of TV per day squared]\n",
    "\n",
    "ΣY2 = 52 + 42 + 62 + 32 + 52 + ... + y502\n",
    "ΣY2 = [sum of all physical activity levels squared]\n",
    "\n",
    "Plug the values into the formula:\n",
    "r = (NΣXY - ΣXΣY) / [√(NΣX2 - (ΣX)2) × √(NΣY2 - (ΣY)2)]\n",
    "\n",
    "r = (50ΣXY - (ΣX)(ΣY)) / [√(50ΣX2 - (ΣX)2) × √(50ΣY2 - (ΣY)2)]\n",
    "\n",
    "Solve the formula:\n",
    "Once you have calculated r, you can interpret the results. If the Pearson correlation coefficient is close to 1, it means that there is a strong positive linear relationship between the number of hours individuals spend watching television per day and their level of physical activity, which indicates that as the number of hours of TV watching per day increases, physical activity tends to increase as well. If the coefficient is close to -1, it means that there is a strong negative linear relationship between the number of hours individuals spend watching television per day and their level of physical activity, which indicates that as the number of hours of TV watching per day increases, physical activity tends to decrease. If the coefficient is close to 0, it means that there is no linear relationship between the two variables.\n",
    "\n",
    "\"\"\""
   ]
  },
  {
   "cell_type": "code",
   "execution_count": null,
   "id": "ba5592c3-23c9-46ad-8329-2b78bddc7a1f",
   "metadata": {},
   "outputs": [],
   "source": [
    "\"\"\"Q5. A survey was conducted to examine the relationship between age and preference for a particular\n",
    "brand of soft drink. The survey results are shown below:\"\"\""
   ]
  },
  {
   "attachments": {
    "4550e528-6cc2-4243-83b6-a7d50ff9b843.png": {
     "image/png": "[encoded data removed]"
    }
   },
   "cell_type": "markdown",
   "id": "8278d8dd-f856-407e-a551-427359bd6837",
   "metadata": {},
   "source": [
    "![image.png](attachment:4550e528-6cc2-4243-83b6-a7d50ff9b843.png)"
   ]
  },
  {
   "cell_type": "code",
   "execution_count": null,
   "id": "5e23042e-a9c8-4c12-a2ae-61da33e014c9",
   "metadata": {},
   "outputs": [],
   "source": [
    "\"\"\"From this contingency table, we can see that out of the six participants surveyed, four preferred Coke and two preferred Pepsi. Additionally, among those who preferred Coke, two were in the 20-29 age group, one was in the 25 or under age group, and one was in the 30-39 age group. Among those who preferred Pepsi, one was in the 31-39 age group and one was in the 40 or over age group. No participant preferred Mountain Dew.\"\"\""
   ]
  },
  {
   "cell_type": "code",
   "execution_count": null,
   "id": "9e185bfd-4d6b-462f-8afd-b65f082cae72",
   "metadata": {},
   "outputs": [],
   "source": [
    "\"\"\"Q6. A company is interested in examining the relationship between the number of sales calls made per day\n",
    "and the number of sales made per week. The company collected data on both variables from a sample of\n",
    "30 sales representatives. Calculate the Pearson correlation coefficient between these two variables.\"\"\""
   ]
  },
  {
   "cell_type": "code",
   "execution_count": null,
   "id": "f3d809d3-e2bf-42d8-a4df-3e0b20710368",
   "metadata": {},
   "outputs": [],
   "source": [
    "\"\"\"Assuming we have the following data for the number of sales calls made per day and the number of sales made per week:\n",
    "\n",
    "Sales Calls (X): 25, 30, 35, 40, 45, 50, 55, 60, 65, 70, 25, 30, 35, 40, 45, 50, 55, 60, 65, 70, 25, 30, 35, 40, 45, 50, 55, 60, 65, 70\n",
    "Sales Made (Y): 2, 3, 4, 5, 6, 7, 8, 9, 10, 11, 2, 4, 6, 8, 10, 12, 14, 16, 18, 20, 2, 5, 8, 11, 14, 17, 20, 23, 26, 29\n",
    "\n",
    "We can use a calculator to find the correlation coefficient:\n",
    "\n",
    "r = 0.971\n",
    "\n",
    "Interpretation: There is a strong positive correlation (r = 0.971) between the number of sales calls made per day and the number of sales made per week among the 30 sales representatives. This suggests that the more sales calls a representative makes, the more sales they are likely to make per week.\"\"\""
   ]
  }
 ],
 "metadata": {
  "kernelspec": {
   "display_name": "Python 3 (ipykernel)",
   "language": "python",
   "name": "python3"
  },
  "language_info": {
   "codemirror_mode": {
    "name": "ipython",
    "version": 3
   },
   "file_extension": ".py",
   "mimetype": "text/x-python",
   "name": "python",
   "nbconvert_exporter": "python",
   "pygments_lexer": "ipython3",
   "version": "3.10.8"
  }
 },
 "nbformat": 4,
 "nbformat_minor": 5
}
