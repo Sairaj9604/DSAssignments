{
 "cells": [
  {
   "cell_type": "code",
   "execution_count": null,
   "id": "fb21e91f-727d-43e2-8bc6-7f7fb1d3a137",
   "metadata": {},
   "outputs": [],
   "source": [
    "'''Q1. You are writing code for a company. The requirement of the company is that you create a python\n",
    "function that will check whether the password entered by the user is correct or not. The function should\n",
    "take the password as input and return the string “Valid Password” if the entered password follows the\n",
    "below-given password guidelines else it should return “Invalid Password”.\n",
    "Note: 1. The Password should contain at least two uppercase letters and at least two lowercase letters.\n",
    "2. The Password should contain at least a number and three special characters.\n",
    "3. The length of the password should be 10 characters long.'''"
   ]
  },
  {
   "cell_type": "code",
   "execution_count": 2,
   "id": "50d50f33-c00f-48f8-9f5b-60979ef08136",
   "metadata": {},
   "outputs": [],
   "source": [
    "def fun(s):\n",
    "    upper_c = 0\n",
    "    lower_c = 0\n",
    "    special_c = 0\n",
    "    number_c = 0\n",
    "    special = \"!@#$%^&*()_+-=[]{}|;':\\\",.<>?/\"\n",
    "    for char in s:\n",
    "        if char.isupper():\n",
    "            upper_c += 1\n",
    "        elif char.islower():\n",
    "            lower_c +=1\n",
    "        elif char.isdigit():\n",
    "            number_c +=1\n",
    "        elif char in special:\n",
    "            special_c +=1\n",
    "    if upper_c>=2 and lower_c>=2 and number_c>=1 and special_c >=3 and len(s)>=10:\n",
    "        return \"Valid String\"\n",
    "    else:\n",
    "        return \"Invalid String\"\n",
    "            \n",
    "        "
   ]
  },
  {
   "cell_type": "code",
   "execution_count": 3,
   "id": "4c7db8c5-9986-42e5-b5eb-27b344e5eb5f",
   "metadata": {},
   "outputs": [
    {
     "name": "stdin",
     "output_type": "stream",
     "text": [
      " Sairaj@#!4AAcg\n"
     ]
    },
    {
     "name": "stdout",
     "output_type": "stream",
     "text": [
      "Valid String\n"
     ]
    }
   ],
   "source": [
    "a = input()\n",
    "print(fun(a))"
   ]
  },
  {
   "cell_type": "code",
   "execution_count": null,
   "id": "966c5ca4-6bff-4b94-ba47-f9b2384480b7",
   "metadata": {},
   "outputs": [],
   "source": [
    "'''Q2. Solve the below-given questions using at least one of the following:\n",
    "1. Lambda functioJ\n",
    "2. Filter functioJ\n",
    "3. Zap functioJ\n",
    "4. List ComprehensioI\n",
    "B Check if the string starts with a particular letterY\n",
    "B Check if the string is numericY\n",
    "B Sort a list of tuples having fruit names and their quantity. [(\"mango\",99),(\"orange\",80), (\"grapes\", 1000)-\n",
    "B Find the squares of numbers from 1 to 10Y\n",
    "B Find the cube root of numbers from 1 to 10Y\n",
    "B Check if a given number is evenY\n",
    "B Filter odd numbers from the given list.\n",
    "[1,2,3,4,5,6,7,8,9,10]\n",
    "B Sort a list of integers into positive and negative integers lists.\n",
    "[1,2,3,4,5,6,-1,-2,-3,-4,-5,0]'''"
   ]
  },
  {
   "cell_type": "code",
   "execution_count": 4,
   "id": "5d1c01a1-606d-40e8-8e1d-9b76f39a233f",
   "metadata": {},
   "outputs": [
    {
     "name": "stdin",
     "output_type": "stream",
     "text": [
      " Yahama\n"
     ]
    },
    {
     "name": "stdout",
     "output_type": "stream",
     "text": [
      "Yes string start with Letter Y\n"
     ]
    }
   ],
   "source": [
    "#1 Check if the string starts with a particular letter Y\n",
    "s = input()\n",
    "letter ='Y'\n",
    "if s.startswith(letter):\n",
    "    print('Yes string start with Letter',letter)\n",
    "else:\n",
    "    print('No string start with Letter',letter)"
   ]
  },
  {
   "cell_type": "code",
   "execution_count": 6,
   "id": "ec102811-c55c-48cb-b035-86c4a3067309",
   "metadata": {},
   "outputs": [
    {
     "name": "stdin",
     "output_type": "stream",
     "text": [
      " sa\n"
     ]
    },
    {
     "name": "stdout",
     "output_type": "stream",
     "text": [
      "No string start with Letter s\n"
     ]
    }
   ],
   "source": [
    "#2 Check if the string is numeric\n",
    "s = input()\n",
    "letter = s[0]\n",
    "if letter.isdigit():\n",
    "    if s.startswith(letter):\n",
    "        print('Yes string start with Letter',letter)\n",
    "else:\n",
    "    print('No string start with Letter',letter)"
   ]
  },
  {
   "cell_type": "code",
   "execution_count": 7,
   "id": "a618231c-ebe5-46b0-a0ac-84906f5480e4",
   "metadata": {},
   "outputs": [
    {
     "name": "stdout",
     "output_type": "stream",
     "text": [
      "[('orange', 80), ('mango', 99), ('grapes', 1000)]\n"
     ]
    }
   ],
   "source": [
    "#3 Sort a list of tuples having fruit names and their quantity. [(\"mango\",99),(\"orange\",80), (\"grapes\", 1000)\n",
    "fruits = [(\"mango\", 99), (\"orange\", 80), (\"grapes\", 1000)]\n",
    "sorted_fruits = sorted(fruits, key=lambda x: x[1])\n",
    "print(sorted_fruits)"
   ]
  },
  {
   "cell_type": "code",
   "execution_count": 9,
   "id": "e784011e-e288-4c64-8571-0c738b769d18",
   "metadata": {},
   "outputs": [
    {
     "data": {
      "text/plain": [
       "[0, 1, 4, 9, 16, 25, 36, 49, 64, 81, 100]"
      ]
     },
     "execution_count": 9,
     "metadata": {},
     "output_type": "execute_result"
    }
   ],
   "source": [
    "#4 Find the squares of numbers from 1 to 10\n",
    "l=[i**2 for i in range(11)]\n",
    "l"
   ]
  },
  {
   "cell_type": "code",
   "execution_count": 10,
   "id": "ae1dd4c7-e974-47fc-b6b1-a242c9b490f4",
   "metadata": {},
   "outputs": [],
   "source": [
    "#5 Find the cube root of numbers from 1 to 10"
   ]
  },
  {
   "cell_type": "code",
   "execution_count": 11,
   "id": "89ff9f8a-083a-4fcd-91cb-8370a34ad39a",
   "metadata": {},
   "outputs": [
    {
     "data": {
      "text/plain": [
       "[0, 1, 8, 27, 64, 125, 216, 343, 512, 729, 1000]"
      ]
     },
     "execution_count": 11,
     "metadata": {},
     "output_type": "execute_result"
    }
   ],
   "source": [
    "l = [i**3 for i in range(11)]\n",
    "l"
   ]
  },
  {
   "cell_type": "code",
   "execution_count": 12,
   "id": "183dd8f0-ffb2-498c-a5e6-bf22312c0b62",
   "metadata": {},
   "outputs": [
    {
     "name": "stdin",
     "output_type": "stream",
     "text": [
      " 5\n"
     ]
    },
    {
     "name": "stdout",
     "output_type": "stream",
     "text": [
      "No\n"
     ]
    }
   ],
   "source": [
    "#6 Check if a given number is even\n",
    "a = int(input())\n",
    "if(a%2==0):\n",
    "    print(\"Yes\")\n",
    "else:\n",
    "    print(\"No\")"
   ]
  },
  {
   "cell_type": "code",
   "execution_count": 13,
   "id": "4f118daa-3501-497c-8a98-ae099216bb5d",
   "metadata": {},
   "outputs": [
    {
     "data": {
      "text/plain": [
       "[1, 3, 5, 7, 9]"
      ]
     },
     "execution_count": 13,
     "metadata": {},
     "output_type": "execute_result"
    }
   ],
   "source": [
    "#7 Filter odd numbers from the given list.\n",
    "l= [1,2,3,4,5,6,7,8,9,10]\n",
    "odd = [x for x in l if x % 2 == 1]\n",
    "odd"
   ]
  },
  {
   "cell_type": "code",
   "execution_count": 15,
   "id": "153a2c21-455c-40af-955e-6df960fe5453",
   "metadata": {},
   "outputs": [
    {
     "name": "stdout",
     "output_type": "stream",
     "text": [
      "[-1, -2, -3, -4, -5]\n",
      "[1, 2, 3, 4, 5, 6, 0]\n"
     ]
    }
   ],
   "source": [
    "#8 Sort a list of integers into positive and negative integers lists.\n",
    "l= [1,2,3,4,5,6,-1,-2,-3,-4,-5,0]\n",
    "a = [i for i in l if i<0]\n",
    "b = [x for x in l if x>=0]\n",
    "print(a)\n",
    "print(b)"
   ]
  }
 ],
 "metadata": {
  "kernelspec": {
   "display_name": "Python 3 (ipykernel)",
   "language": "python",
   "name": "python3"
  },
  "language_info": {
   "codemirror_mode": {
    "name": "ipython",
    "version": 3
   },
   "file_extension": ".py",
   "mimetype": "text/x-python",
   "name": "python",
   "nbconvert_exporter": "python",
   "pygments_lexer": "ipython3",
   "version": "3.10.8"
  }
 },
 "nbformat": 4,
 "nbformat_minor": 5
}
