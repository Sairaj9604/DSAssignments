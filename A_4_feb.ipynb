{
 "cells": [
  {
   "cell_type": "raw",
   "id": "6e9e6517-87cc-415a-9293-30ba7bffa821",
   "metadata": {},
   "source": [
    "Q1. Create a python program to sort the given list of tuples based on integer value using a\n",
    "lambda function."
   ]
  },
  {
   "cell_type": "code",
   "execution_count": 5,
   "id": "6f51dcc7-0b1b-4815-9a7a-38b4972ecbf8",
   "metadata": {},
   "outputs": [
    {
     "data": {
      "text/plain": [
       "[('Virat Kohli', 24936),\n",
       " ('Jack Kallis', 25534),\n",
       " ('Ricky Ponting', 27483),\n",
       " ('Sachin Tendulkar', 34357)]"
      ]
     },
     "execution_count": 5,
     "metadata": {},
     "output_type": "execute_result"
    }
   ],
   "source": [
    "l = [('Sachin Tendulkar', 34357), ('Ricky Ponting', 27483), ('Jack Kallis', 25534), ('Virat Kohli', 24936)]\n",
    "l.sort(key=lambda x:x[1])\n",
    "l"
   ]
  },
  {
   "cell_type": "raw",
   "id": "59d3f316-1d42-48a4-8e42-6ea635d8d46c",
   "metadata": {},
   "source": [
    "Q2. Write a Python Program to find the squares of all the numbers in the given list of integers using\n",
    "lambda and map functions.\n",
    "[1, 2, 3, 4, 5, 6, 7, 8, 9, 10]"
   ]
  },
  {
   "cell_type": "code",
   "execution_count": 6,
   "id": "6cce0909-7d3c-4467-a366-502993efdad3",
   "metadata": {},
   "outputs": [
    {
     "data": {
      "text/plain": [
       "[1, 4, 9, 16, 25, 36, 49, 64, 81, 100]"
      ]
     },
     "execution_count": 6,
     "metadata": {},
     "output_type": "execute_result"
    }
   ],
   "source": [
    "l = [1, 2, 3, 4, 5, 6, 7, 8, 9, 10]\n",
    "a = list(map(lambda x: x**2,l))\n",
    "a"
   ]
  },
  {
   "cell_type": "raw",
   "id": "2eebd996-3b84-4e00-9ec2-6ecf9abb5189",
   "metadata": {},
   "source": [
    "Q3. Write a python program to convert the given list of integers into a tuple of strings. Use map and\n",
    "lambda functions"
   ]
  },
  {
   "cell_type": "code",
   "execution_count": 8,
   "id": "921a17fd-9aa8-4d23-9fd9-7e4f95e6052a",
   "metadata": {},
   "outputs": [
    {
     "data": {
      "text/plain": [
       "['1', '2', '3', '4', '5', '6', '7', '8', '9', '10']"
      ]
     },
     "execution_count": 8,
     "metadata": {},
     "output_type": "execute_result"
    }
   ],
   "source": [
    "l=[1, 2, 3, 4, 5, 6, 7, 8, 9, 10]\n",
    "a = list(map(lambda x : str(x),l))\n",
    "a"
   ]
  },
  {
   "cell_type": "raw",
   "id": "bbdba0c9-f63a-4ec0-8b34-54e48d1b614a",
   "metadata": {},
   "source": [
    "Q4 Write a python program using reduce function to compute the product of a list containing numbers\n",
    "from 1 to 25."
   ]
  },
  {
   "cell_type": "code",
   "execution_count": 11,
   "id": "72d3e69d-2688-402f-8ec8-e0aefc20189b",
   "metadata": {},
   "outputs": [
    {
     "data": {
      "text/plain": [
       "15511210043330985984000000"
      ]
     },
     "execution_count": 11,
     "metadata": {},
     "output_type": "execute_result"
    }
   ],
   "source": [
    "from functools import reduce\n",
    "l =[i for i in range(1,26)]\n",
    "a = reduce(lambda x,y:x*y,l)\n",
    "a"
   ]
  },
  {
   "cell_type": "raw",
   "id": "f40a718e-b288-438d-a418-147b4c7d1e51",
   "metadata": {},
   "source": [
    "Q5 Write a python program to filter the numbers in a given list that are divisible by 2 and 3 using the\n",
    "filter function."
   ]
  },
  {
   "cell_type": "code",
   "execution_count": 16,
   "id": "8e06a5f3-6ecc-40be-bd59-1a79e9d211a3",
   "metadata": {},
   "outputs": [
    {
     "name": "stdout",
     "output_type": "stream",
     "text": [
      "[2, 3, 6, 9, 27, 60, 90, 120, 46]\n"
     ]
    }
   ],
   "source": [
    "l = [2, 3, 6, 9, 27, 60, 90, 120, 55, 46]\n",
    "a = filter(lambda x: (x % 2 == 0)or(x % 3 == 0), l)\n",
    "print(list(a))"
   ]
  },
  {
   "cell_type": "raw",
   "id": "358dcec4-52ed-4ccf-99b1-c46eca045069",
   "metadata": {},
   "source": [
    "Write a python program to find palindromes in the given list of strings using lambda and filter\n",
    "function."
   ]
  },
  {
   "cell_type": "code",
   "execution_count": 17,
   "id": "ef362837-9591-4809-9fd2-cb6c28ae93d2",
   "metadata": {},
   "outputs": [
    {
     "name": "stdout",
     "output_type": "stream",
     "text": [
      "['php', 'aba', 'radar', 'level']\n"
     ]
    }
   ],
   "source": [
    "a = ['python', 'php', 'aba', 'radar', 'level']\n",
    "b = filter(lambda s: s==s[::-1],a)\n",
    "print(list(b))"
   ]
  }
 ],
 "metadata": {
  "kernelspec": {
   "display_name": "Python 3 (ipykernel)",
   "language": "python",
   "name": "python3"
  },
  "language_info": {
   "codemirror_mode": {
    "name": "ipython",
    "version": 3
   },
   "file_extension": ".py",
   "mimetype": "text/x-python",
   "name": "python",
   "nbconvert_exporter": "python",
   "pygments_lexer": "ipython3",
   "version": "3.10.8"
  }
 },
 "nbformat": 4,
 "nbformat_minor": 5
}
