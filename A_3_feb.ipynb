{
 "cells": [
  {
   "cell_type": "raw",
   "id": "38b52574-2c1c-475e-af21-d143d8dd9053",
   "metadata": {},
   "source": [
    "Q1 Which keyword is used to create a function? Create a function to return a list of odd numbers in the\n",
    "range of 1 to 25."
   ]
  },
  {
   "cell_type": "code",
   "execution_count": 4,
   "id": "3274085c-63b7-4d2a-af88-c9aa5e9348ea",
   "metadata": {},
   "outputs": [
    {
     "name": "stdout",
     "output_type": "stream",
     "text": [
      "[1, 3, 5, 7, 9, 11, 13, 15, 17, 19, 21, 23]\n"
     ]
    }
   ],
   "source": [
    "#lambda function is used\n",
    "l = [i for i in range(25)]\n",
    "arr2 = list(filter(lambda x: x % 2 != 0, l))\n",
    "print(arr2)"
   ]
  },
  {
   "cell_type": "raw",
   "id": "74c213f6-e9a2-47bf-9ab3-656097b5ed3b",
   "metadata": {},
   "source": [
    "Q2. Why *args and **kwargs is used in some functions? Create a function each for *args and **kwargs\n",
    "to demonstrate their use."
   ]
  },
  {
   "cell_type": "code",
   "execution_count": 6,
   "id": "d6a91ada-9720-45c0-97f1-318d52c7bd7f",
   "metadata": {},
   "outputs": [
    {
     "name": "stdout",
     "output_type": "stream",
     "text": [
      "Hello\n",
      "Welcome\n",
      "to\n",
      "Pwskills\n"
     ]
    }
   ],
   "source": [
    "'''To create a dynamic function in python we use. *args creats a tuple while **kwargs creates dictionary'''\n",
    "def argg(*s):\n",
    "    for i in s:\n",
    "        print(i)\n",
    " \n",
    " \n",
    "argg('Hello', 'Welcome', 'to', 'Pwskills')"
   ]
  },
  {
   "cell_type": "code",
   "execution_count": 7,
   "id": "d4305bba-83d5-4c47-a120-dc293e893663",
   "metadata": {},
   "outputs": [
    {
     "name": "stdout",
     "output_type": "stream",
     "text": [
      "first == Pw\n",
      "second == Skills\n",
      "third == Datascience masters\n"
     ]
    }
   ],
   "source": [
    "def kwargg(**kwargs):\n",
    "    for key, value in kwargs.items():\n",
    "        print(\"%s == %s\" % (key, value))\n",
    "\n",
    "kwargg(first=\"Pw\",second =\"Skills\",third =\"Datascience masters\")"
   ]
  },
  {
   "cell_type": "raw",
   "id": "7c71588f-65b1-47d0-8c81-617852a80bf3",
   "metadata": {},
   "source": [
    "Q3 What is an iterator in python? Name the method used to initialise the iterator object and the method\n",
    "used for iteration. Use these methods to print the first five elements of the given list [2, 4, 6, 8, 10, 12, 14,\n",
    "16, 18, 20]."
   ]
  },
  {
   "cell_type": "code",
   "execution_count": 8,
   "id": "aee5103f-55b1-4402-bd20-bea29debbd12",
   "metadata": {},
   "outputs": [
    {
     "name": "stdout",
     "output_type": "stream",
     "text": [
      "2\n",
      "4\n",
      "6\n",
      "8\n",
      "10\n",
      "12\n",
      "14\n",
      "16\n",
      "18\n",
      "20\n"
     ]
    }
   ],
   "source": [
    "#An iterator is an object that contains a countable number of values.\n",
    "#Iterator in Python is an object that is used to iterate over iterable objects like lists, tuples, dicts, and sets. The iterator object is initialized using the iter() method. It uses the next() method for iteration.\n",
    "l= [2, 4, 6, 8, 10, 12, 14,16, 18, 20]\n",
    "\n",
    "for item in l:\n",
    "    print(item)"
   ]
  },
  {
   "cell_type": "raw",
   "id": "344293c9-f15d-49e7-b8af-45f1bee5a1c1",
   "metadata": {},
   "source": [
    "Q4. What is a generator function in python? Why yield keyword is used? Give an example of a generator\n",
    "function."
   ]
  },
  {
   "cell_type": "code",
   "execution_count": 9,
   "id": "a3df1ca0-dfbc-456f-b1be-46fb01627ebe",
   "metadata": {},
   "outputs": [
    {
     "name": "stdout",
     "output_type": "stream",
     "text": [
      "0\n",
      "1\n",
      "1\n",
      "2\n",
      "3\n"
     ]
    }
   ],
   "source": [
    "\"\"\"A generator-function is defined like a normal function, but whenever it needs to generate a value, it does so with the yield keyword rather \n",
    "than return. If the body of a def contains yield, the function automatically becomes a generator function. \"\"\"\n",
    "def fib(limit):\n",
    "    a, b = 0, 1\n",
    "    while a < limit:\n",
    "        yield a\n",
    "        a, b = b, a + b\n",
    "\n",
    "x = fib(5)\n",
    "\n",
    "print(next(x)) \n",
    "print(next(x))\n",
    "print(next(x))\n",
    "print(next(x))\n",
    "print(next(x))"
   ]
  },
  {
   "cell_type": "raw",
   "id": "d8e9b0b3-6da5-4e3f-9717-5fcf460bc088",
   "metadata": {},
   "source": [
    "Q5. Create a generator function for prime numbers less than 1000. Use the next() method to print the\n",
    "first 20 prime numbers."
   ]
  },
  {
   "cell_type": "code",
   "execution_count": 13,
   "id": "b86da022-fbc0-484e-b67f-28020bc39b65",
   "metadata": {},
   "outputs": [
    {
     "data": {
      "text/plain": [
       "[2, 3, 5, 7, 11, 13, 17, 19, 23, 29, 31, 37, 41, 43, 47, 53, 59, 61, 67, 71]"
      ]
     },
     "execution_count": 13,
     "metadata": {},
     "output_type": "execute_result"
    }
   ],
   "source": [
    "def is_prime(num):\n",
    "    \n",
    "    if num == 0 or num == 1:\n",
    "        return False\n",
    "    for x in range(2, num):\n",
    "        if num % x == 0:\n",
    "            return False\n",
    "    else:\n",
    "        return True\n",
    "\n",
    "a= list(filter(is_prime, range(1, 1000)))\n",
    "a[:20]"
   ]
  },
  {
   "cell_type": "raw",
   "id": "28998528-25ed-4b5c-b939-95d033380584",
   "metadata": {},
   "source": [
    "Q6 Write a python program to print the first 10 Fibonacci numbers using a while loop."
   ]
  },
  {
   "cell_type": "code",
   "execution_count": 14,
   "id": "8bd6cca4-7bf9-4481-bbc2-dbc17eaf90a8",
   "metadata": {},
   "outputs": [
    {
     "name": "stdin",
     "output_type": "stream",
     "text": [
      " 5\n"
     ]
    },
    {
     "name": "stdout",
     "output_type": "stream",
     "text": [
      "Fibonacci series is:  0 1 0 1 1 "
     ]
    }
   ],
   "source": [
    "n = int(input())\n",
    "a = 0\n",
    "b = 1\n",
    "s = 0\n",
    "count = 1\n",
    "print(\"Fibonacci series is: \", end = \" \")\n",
    "while(count <= n):\n",
    "  count += 1\n",
    "  print(a, end=\" \")\n",
    "  a = b\n",
    "  b = s\n",
    "  s = a + b"
   ]
  },
  {
   "cell_type": "raw",
   "id": "41102ced-697a-49f0-a326-6319835591f8",
   "metadata": {},
   "source": [
    "Q7. Write a List Comprehension to iterate through the given string: ‘pwskills’.\n",
    "Expected output: ['p', 'w', 's', 'k', 'i', 'l', 'l', 's']"
   ]
  },
  {
   "cell_type": "code",
   "execution_count": 20,
   "id": "e6b7f9b3-0ed9-4c22-b149-f036cdbbefa1",
   "metadata": {},
   "outputs": [
    {
     "data": {
      "text/plain": [
       "['p', 'w', 's', 'k', 'i', 'l', 'l', 's']"
      ]
     },
     "execution_count": 20,
     "metadata": {},
     "output_type": "execute_result"
    }
   ],
   "source": [
    "s = 'pwskills'\n",
    "l = [i for i in s] \n",
    "l"
   ]
  },
  {
   "cell_type": "raw",
   "id": "085d7397-491f-4f59-a4dd-4fd4cc18c5eb",
   "metadata": {},
   "source": [
    "Q9 Write a code to print odd numbers from 1 to 100 using list comprehension."
   ]
  },
  {
   "cell_type": "code",
   "execution_count": 22,
   "id": "9c643a22-e68e-4ddd-81c1-9bc9899d811e",
   "metadata": {},
   "outputs": [
    {
     "data": {
      "text/plain": [
       "[1,\n",
       " 3,\n",
       " 5,\n",
       " 7,\n",
       " 9,\n",
       " 11,\n",
       " 13,\n",
       " 15,\n",
       " 17,\n",
       " 19,\n",
       " 21,\n",
       " 23,\n",
       " 25,\n",
       " 27,\n",
       " 29,\n",
       " 31,\n",
       " 33,\n",
       " 35,\n",
       " 37,\n",
       " 39,\n",
       " 41,\n",
       " 43,\n",
       " 45,\n",
       " 47,\n",
       " 49,\n",
       " 51,\n",
       " 53,\n",
       " 55,\n",
       " 57,\n",
       " 59,\n",
       " 61,\n",
       " 63,\n",
       " 65,\n",
       " 67,\n",
       " 69,\n",
       " 71,\n",
       " 73,\n",
       " 75,\n",
       " 77,\n",
       " 79,\n",
       " 81,\n",
       " 83,\n",
       " 85,\n",
       " 87,\n",
       " 89,\n",
       " 91,\n",
       " 93,\n",
       " 95,\n",
       " 97,\n",
       " 99]"
      ]
     },
     "execution_count": 22,
     "metadata": {},
     "output_type": "execute_result"
    }
   ],
   "source": [
    "l = [i for i in range(100) if i%2==1]\n",
    "l"
   ]
  }
 ],
 "metadata": {
  "kernelspec": {
   "display_name": "Python 3 (ipykernel)",
   "language": "python",
   "name": "python3"
  },
  "language_info": {
   "codemirror_mode": {
    "name": "ipython",
    "version": 3
   },
   "file_extension": ".py",
   "mimetype": "text/x-python",
   "name": "python",
   "nbconvert_exporter": "python",
   "pygments_lexer": "ipython3",
   "version": "3.10.8"
  }
 },
 "nbformat": 4,
 "nbformat_minor": 5
}
