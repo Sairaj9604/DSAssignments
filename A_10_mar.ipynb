{
 "cells": [
  {
   "cell_type": "code",
   "execution_count": null,
   "id": "0bf5310f-87e1-4adb-90e1-56729fe31e7e",
   "metadata": {},
   "outputs": [],
   "source": [
    "\"\"\"Q1: What is Estimation Statistics? Explain point estimate and interval estimate.\"\"\""
   ]
  },
  {
   "cell_type": "code",
   "execution_count": null,
   "id": "69fa12f1-1696-492d-97ff-314a435ea877",
   "metadata": {},
   "outputs": [],
   "source": [
    "\"\"\"Estimation statistics is a branch of statistics that deals with making inferences about population parameters \n",
    "based on sample statistics. The goal of estimation is to use information from a sample to estimate an unknown parameter of the \n",
    "population from which the sample was drawn.\n",
    "\n",
    "Point Estimate:\n",
    "A point estimate is a single value that is used to estimate a population parameter. This value is calculated from a sample and is \n",
    "intended to be an estimate of the true value of the parameter. For example, if we want to estimate the population mean, we can calculate \n",
    "the sample mean and use it as a point estimate of the population mean.\n",
    "\n",
    "Interval Estimate:\n",
    "An interval estimate is a range of values that is used to estimate a population parameter. It is typically reported as a confidence \n",
    "interval and reflects the level of uncertainty associated with the estimate. Confidence intervals are constructed by specifying a level \n",
    "of confidence, such as 95% or 99%, and using statistical methods to calculate a range of values that is likely to contain the true value of\n",
    "the population parameter.\"\"\""
   ]
  },
  {
   "cell_type": "code",
   "execution_count": null,
   "id": "69b5cb3d-8bf9-4b50-b21f-f6209dfd057e",
   "metadata": {},
   "outputs": [],
   "source": [
    "\"\"\"Q2. Write a Python function to estimate the population mean using a sample mean and standard deviation.\"\"\""
   ]
  },
  {
   "cell_type": "code",
   "execution_count": 1,
   "id": "375a4b7c-d44f-4b28-8e4b-a1da4b5c7a71",
   "metadata": {},
   "outputs": [
    {
     "name": "stdout",
     "output_type": "stream",
     "text": [
      "Sample mean: 50.92\n",
      "Sample standard deviation: 10.58\n",
      "Estimated population mean (95% confidence interval): (48.84850320073851, 52.99427469950536)\n"
     ]
    }
   ],
   "source": [
    "def estimate_pop_mean(sample_mean, sample_std, sample_size):\n",
    "    \n",
    "    # set the desired level of confidence (e.g., 95%)\n",
    "    confidence_level = 0.95\n",
    "    \n",
    "    # calculate the critical value of the standard normal distribution\n",
    "    z_critical = stats.norm.ppf((1 + confidence_level) / 2)\n",
    "    \n",
    "    # calculate the margin of error\n",
    "    margin_of_error = z_critical * sample_std / np.sqrt(sample_size)\n",
    "    \n",
    "    # calculate the lower and upper bounds of the confidence interval\n",
    "    lower_bound = sample_mean - margin_of_error\n",
    "    upper_bound = sample_mean + margin_of_error\n",
    "    \n",
    "    # return the confidence interval as a tuple\n",
    "    return (lower_bound, upper_bound)\n",
    "\n",
    "import numpy as np\n",
    "from scipy import stats\n",
    "\n",
    "# generate a random sample of data\n",
    "sample_data = np.random.normal(loc=50, scale=10, size=100)\n",
    "\n",
    "# calculate the sample mean and standard deviation\n",
    "sample_mean = np.mean(sample_data)\n",
    "sample_std = np.std(sample_data, ddof=1)\n",
    "sample_size = len(sample_data)\n",
    "\n",
    "# estimate the population mean using the function\n",
    "pop_mean_est = estimate_pop_mean(sample_mean, sample_std, sample_size)\n",
    "\n",
    "print(f\"Sample mean: {sample_mean:.2f}\")\n",
    "print(f\"Sample standard deviation: {sample_std:.2f}\")\n",
    "print(f\"Estimated population mean (95% confidence interval): {pop_mean_est}\")"
   ]
  },
  {
   "cell_type": "code",
   "execution_count": null,
   "id": "376003e8-1e97-492c-83ac-ff4ed784e4d1",
   "metadata": {},
   "outputs": [],
   "source": [
    "\"\"\"Q3: What is Hypothesis testing? Why is it used? State the importance of Hypothesis testing.\"\"\""
   ]
  },
  {
   "cell_type": "code",
   "execution_count": null,
   "id": "c3c28d32-cab6-4b94-918f-f98e32213d57",
   "metadata": {},
   "outputs": [],
   "source": [
    "\"\"\"Hypothesis testing is a statistical technique used to evaluate a hypothesis or claim about a population parameter based on sample data. \n",
    "It involves setting up two mutually exclusive hypotheses, the null hypothesis (H0) and the alternative hypothesis (Ha), and using sample \n",
    "data to test which hypothesis is more likely to be true.\n",
    "\n",
    "The null hypothesis is usually the hypothesis that the researcher wants to reject, while the alternative hypothesis is the hypothesis that \n",
    "the researcher wants to support. Hypothesis testing involves using a test statistic and a p-value to determine whether the null hypothesis \n",
    "can be rejected or not.\n",
    "\n",
    "Hypothesis testing is used to make decisions about whether to accept or reject a hypothesis or claim about a population parameter based on \n",
    "sample data. It is commonly used in scientific research to test theories and hypotheses, in quality control to test the performance of \n",
    "products or processes, and in business to evaluate the effectiveness of marketing campaigns or investment strategies.\n",
    "\n",
    "The importance of hypothesis testing lies in its ability to make objective and evidence-based decisions about population parameters based \n",
    "on sample data. It provides a systematic way to evaluate the strength of evidence against a hypothesis, and to make informed decisions\n",
    "based on that evidence.\"\"\""
   ]
  },
  {
   "cell_type": "code",
   "execution_count": null,
   "id": "8dd0743d-7450-4c0c-9b89-4df02c36b857",
   "metadata": {},
   "outputs": [],
   "source": [
    "\"\"\"Q4. Create a hypothesis that states whether the average weight of male college students is greater than\n",
    "the average weight of female college students.\"\"\""
   ]
  },
  {
   "cell_type": "code",
   "execution_count": null,
   "id": "2e067468-8f01-47ac-9d79-31f4aa2df490",
   "metadata": {},
   "outputs": [],
   "source": [
    "\"\"\"Null Hypothesis (H0): The average weight of male college students is equal to or less than the average weight of female college students.\n",
    "\n",
    "Alternative Hypothesis (Ha): The average weight of male college students is greater than the average weight of female college students.\"\"\""
   ]
  },
  {
   "cell_type": "code",
   "execution_count": null,
   "id": "a6582580-7fea-49d4-b474-c66b8badcd80",
   "metadata": {},
   "outputs": [],
   "source": [
    "\"\"\"Q5. Write a Python script to conduct a hypothesis test on the difference between two population means,\n",
    "given a sample from each population.\"\"\""
   ]
  },
  {
   "cell_type": "code",
   "execution_count": 6,
   "id": "acd43aaa-cbb8-4f8f-8f14-cb7f25aaa016",
   "metadata": {},
   "outputs": [
    {
     "name": "stdout",
     "output_type": "stream",
     "text": [
      "Sample 1 mean: 5.4\n",
      "Sample 2 mean: 6.4\n",
      "t-statistic: -0.49751859510499463\n",
      "p-value: 0.6322081528892682\n"
     ]
    }
   ],
   "source": [
    "import scipy.stats as stats\n",
    "sample1 = [1.2, 3.4, 5.6, 7.8, 9.0]\n",
    "sample2 = [2.2, 4.4, 6.6, 8.8, 10.0]\n",
    "\n",
    "\n",
    "mean1 = sum(sample1)/len(sample1)\n",
    "mean2 = sum(sample2)/len(sample2)\n",
    "\n",
    "\n",
    "t_stat, p_val = stats.ttest_ind(sample1, sample2)\n",
    "\n",
    "print(\"Sample 1 mean:\", mean1)\n",
    "print(\"Sample 2 mean:\", mean2)\n",
    "\n",
    "print(\"t-statistic:\", t_stat)\n",
    "print(\"p-value:\", p_val)"
   ]
  },
  {
   "cell_type": "code",
   "execution_count": null,
   "id": "af0e1eb2-9424-4001-a973-0685927635b2",
   "metadata": {},
   "outputs": [],
   "source": [
    "\"\"\"Q6: What is a null and alternative hypothesis? Give some examples.\"\"\""
   ]
  },
  {
   "cell_type": "code",
   "execution_count": null,
   "id": "b37e7910-2998-4056-ae87-4de5b3025658",
   "metadata": {},
   "outputs": [],
   "source": [
    "\"\"\"In statistical hypothesis testing, the null hypothesis (H0) and alternative hypothesis (Ha) are two competing statements about a \n",
    "population parameter or parameters. The null hypothesis is the statement that there is no significant difference between a sample statistic\n",
    "and the population parameter, or no significant relationship between two variables. The alternative hypothesis is the statement that there \n",
    "is a significant difference or relationship.\n",
    "\n",
    "Null hypothesis: The mean IQ score of students in a school is 100.\n",
    "Alternative hypothesis: The mean IQ score of students in a school is not equal to 100.\n",
    "\n",
    "Null hypothesis: The proportion of smokers in a population is 20%.\n",
    "Alternative hypothesis: The proportion of smokers in a population is greater than 20%.\n",
    "\"\"\""
   ]
  },
  {
   "cell_type": "code",
   "execution_count": null,
   "id": "d508c9e0-9e7b-423a-9fd2-f335c94be854",
   "metadata": {},
   "outputs": [],
   "source": [
    "\"\"\"Q7: Write down the steps involved in hypothesis testing.\"\"\""
   ]
  },
  {
   "cell_type": "code",
   "execution_count": null,
   "id": "2c51d9ac-7477-4444-8232-7628e0243cfe",
   "metadata": {},
   "outputs": [],
   "source": [
    "\"\"\"State the null hypothesis (H0) and alternative hypothesis (Ha): The null hypothesis is the default assumption or claim that there is no \n",
    "significant difference or effect between groups or variables, while the alternative hypothesis is the opposite or competing claim. Both \n",
    "hypotheses must be mutually exclusive and exhaustive.\n",
    "\n",
    "Set the significance level (α): The significance level is the maximum probability of rejecting the null hypothesis when it is actually true.\n",
    "It is usually set at 0.05 or 0.01, indicating a 5% or 1% chance of making a Type I error (rejecting a true null hypothesis).\n",
    "\n",
    "Determine the test statistic and the critical value: The test statistic is a measure of how many standard errors the sample estimate is \n",
    "away from the null hypothesis value. The critical value is the value of the test statistic at which the null hypothesis is just rejected.\n",
    "\n",
    "Collect and analyze the data: Collect a random sample of data from the population of interest and calculate the sample statistic (e.g., \n",
    "mean, proportion, correlation) and its standard error.\n",
    "\n",
    "Calculate the p-value: The p-value is the probability of obtaining a sample statistic as extreme or more extreme than the observed value, \n",
    "assuming that the null hypothesis is true. A p-value less than the significance level indicates strong evidence against the null hypothesis.\n",
    "\n",
    "Make a decision and draw a conclusion: If the p-value is less than the significance level, reject the null hypothesis in favor of the \n",
    "alternative hypothesis. Otherwise, fail to reject the null hypothesis. State the conclusion in terms of the research question and population \n",
    "parameters.\n",
    "\n",
    "Interpret the results and report the findings: Interpret the statistical and practical significance of the results and report the findings \n",
    "with appropriate measures of effect size and confidence intervals.\"\"\""
   ]
  },
  {
   "cell_type": "code",
   "execution_count": null,
   "id": "28e9bcb9-7936-4a12-a61d-eb39dd90d37a",
   "metadata": {},
   "outputs": [],
   "source": [
    "\"\"\"Q8. Define p-value and explain its significance in hypothesis testing.\"\"\""
   ]
  },
  {
   "cell_type": "code",
   "execution_count": null,
   "id": "fcb15663-da04-430c-a287-a92c1b41e42d",
   "metadata": {},
   "outputs": [],
   "source": [
    "\"\"\"In hypothesis testing, the p-value is the probability of obtaining a sample statistic as extreme or more extreme than the observed value,\n",
    "assuming that the null hypothesis is true. In other words, it measures the strength of evidence against the null hypothesis.\n",
    "\n",
    "The significance of the p-value lies in its ability to help researchers make a decision about whether to reject or fail to reject the null \n",
    "hypothesis. If the p-value is less than the significance level (α), which is typically set at 0.05 or 0.01, it suggests strong evidence \n",
    "against the null hypothesis, and the null hypothesis is rejected in favor of the alternative hypothesis. On the other hand, if the p-value \n",
    "is greater than the significance level, it suggests weak evidence against the null hypothesis, and the null hypothesis is failed to be \n",
    "rejected.\n",
    "\n",
    "The p-value also provides a measure of the strength of evidence against the null hypothesis, with smaller p-values indicating stronger \n",
    "evidence. It allows researchers to assess the statistical and practical significance of the results and helps to avoid making Type I errors\n",
    "(rejecting a true null hypothesis) and Type II errors (failing to reject a false null hypothesis).\"\"\""
   ]
  },
  {
   "cell_type": "code",
   "execution_count": 10,
   "id": "3bb09274-1e69-4312-ba8b-e72a000f17b7",
   "metadata": {},
   "outputs": [
    {
     "data": {
      "image/png": "[encoded data removed]",
      "text/plain": [
       "<Figure size 800x500 with 1 Axes>"
      ]
     },
     "metadata": {},
     "output_type": "display_data"
    }
   ],
   "source": [
    "import numpy as np\n",
    "import matplotlib.pyplot as plt\n",
    "from scipy.stats import t\n",
    "df =10\n",
    "x = np.linspace(-4,4,1000)\n",
    "y = t.pdf(x,df)\n",
    "\n",
    "fig,ax = plt.subplots(figsize = (8,5))\n",
    "\n",
    "ax.set_title(\"Student's t-Distribution\")\n",
    "ax.set_xlabel(\"X\")\n",
    "ax.set_ylabel(\"Probability density\")\n",
    "ax.plot(x,y,label=\"df=10\")\n",
    "ax.legend()\n",
    "plt.show()"
   ]
  },
  {
   "cell_type": "code",
   "execution_count": null,
   "id": "d83a31d6-1356-41f0-97ab-ec0f5973c4b0",
   "metadata": {},
   "outputs": [],
   "source": [
    "\"\"\"Q10. Write a Python program to calculate the two-sample t-test for independent samples, given two\n",
    "random samples of equal size and a null hypothesis that the population means are equal.\"\"\""
   ]
  },
  {
   "cell_type": "code",
   "execution_count": 11,
   "id": "a440bb41-4910-4c9b-919a-30cf3de02b20",
   "metadata": {},
   "outputs": [
    {
     "name": "stdout",
     "output_type": "stream",
     "text": [
      "Null hypothesis: The population means are equal.\n",
      "Sample 1 mean: 9.691702889287077\n",
      "Sample 2 mean: 10.665445264763404\n",
      "T-Statistic: -2.33073363060308\n",
      "P-Value: 0.021817064520444438\n"
     ]
    }
   ],
   "source": [
    "import numpy as np\n",
    "from scipy.stats import ttest_ind\n",
    "\n",
    "# Generate two random samples\n",
    "sample1 = np.random.normal(loc=10, scale=2, size=50)\n",
    "sample2 = np.random.normal(loc=11, scale=2, size=50)\n",
    "\n",
    "# Set the null hypothesis that the population means are equal\n",
    "null_hypothesis = \"The population means are equal.\"\n",
    "\n",
    "# Calculate the t-statistic and p-value using the two-sample t-test\n",
    "t_statistic, p_value = ttest_ind(sample1, sample2)\n",
    "\n",
    "# Print the results\n",
    "print(\"Null hypothesis:\", null_hypothesis)\n",
    "print(\"Sample 1 mean:\", np.mean(sample1))\n",
    "print(\"Sample 2 mean:\", np.mean(sample2))\n",
    "print(\"T-Statistic:\", t_statistic)\n",
    "print(\"P-Value:\", p_value)\n"
   ]
  },
  {
   "cell_type": "code",
   "execution_count": null,
   "id": "db52bddc-635c-43cd-8ae0-d3dd472cf7d2",
   "metadata": {},
   "outputs": [],
   "source": [
    "\"\"\"Q11: What is Student’s t distribution? When to use the t-Distribution.\"\"\""
   ]
  },
  {
   "cell_type": "code",
   "execution_count": null,
   "id": "30f7b283-6fed-4d84-add7-e956c069b557",
   "metadata": {},
   "outputs": [],
   "source": [
    "\"\"\"Student's t-distribution is a probability distribution that is used in statistics to estimate population parameters when the sample size \n",
    "is small (typically less than 30) or when the population standard deviation is unknown. The t-distribution is similar in shape to the \n",
    "standard normal distribution but has heavier tails, meaning that it has more probability in the tails of the distribution compared to the \n",
    "normal distribution.\n",
    "\n",
    "The t-distribution is used in situations where the population variance or standard deviation is unknown and has to be estimated from the \n",
    "sample. In such cases, the distribution of the sample mean follows a t-distribution with degrees of freedom equal to n-1, where n is the \n",
    "sample size. The t-distribution is also used in hypothesis testing to test whether the mean of a sample is significantly different from the \n",
    "population mean.\"\"\""
   ]
  },
  {
   "cell_type": "code",
   "execution_count": null,
   "id": "16564f8d-b06a-4c82-87a5-5c255d94d4fb",
   "metadata": {},
   "outputs": [],
   "source": [
    "\"\"\"Q12: What is t-statistic? State the formula for t-statistic.\"\"\""
   ]
  },
  {
   "cell_type": "code",
   "execution_count": null,
   "id": "a320bd69-c77e-403a-a25d-dbf202b15fc7",
   "metadata": {},
   "outputs": [],
   "source": [
    "\"\"\"The t-statistic is a test statistic used in hypothesis testing when the population standard deviation is unknown and has to be estimated \n",
    "from the sample. It measures the difference between the sample mean and the population mean, in units of the standard error of the sample \n",
    "mean.\n",
    "\n",
    "The formula for the t-statistic is:\n",
    "\n",
    "t = (x̄ - μ) / (s / √n)\n",
    "\n",
    "where:\n",
    "x̄ = sample mean\n",
    "μ = population mean (null hypothesis)\n",
    "s = sample standard deviation\n",
    "n = sample size\n",
    "\n",
    "The t-statistic is compared to a t-distribution with degrees of freedom equal to n-1 to calculate the p-value and determine whether the \n",
    "difference between the sample mean and the population mean is statistically significant.\"\"\""
   ]
  },
  {
   "cell_type": "code",
   "execution_count": null,
   "id": "d0865527-5960-4633-b90f-3afc25d6212b",
   "metadata": {},
   "outputs": [],
   "source": [
    "\"\"\"Q13. A coffee shop owner wants to estimate the average daily revenue for their shop. They take a random\n",
    "sample of 50 days and find the sample mean revenue to be $500 with a standard deviation of $50.\n",
    "Estimate the population mean revenue with a 95% confidence interval.\"\"\""
   ]
  },
  {
   "cell_type": "code",
   "execution_count": null,
   "id": "f7fc0c46-a3cc-41a3-bfce-2ac6ad5e2693",
   "metadata": {},
   "outputs": [],
   "source": [
    "\"\"\"SE = s / √n\n",
    "\n",
    "where s is the sample standard deviation, n is the sample size.\n",
    "\n",
    "SE = 50 / √50 = 7.07\"\"\""
   ]
  },
  {
   "cell_type": "code",
   "execution_count": 12,
   "id": "aa2d4b31-d694-487c-a92d-2017608304a9",
   "metadata": {},
   "outputs": [
    {
     "name": "stdout",
     "output_type": "stream",
     "text": [
      "2.009575234489209\n"
     ]
    }
   ],
   "source": [
    "from scipy.stats import t\n",
    "\n",
    "t_value = t.ppf(1 - 0.05 / 2, 49)\n",
    "print(t_value)\n"
   ]
  },
  {
   "cell_type": "code",
   "execution_count": 14,
   "id": "2998d101-0fb8-4e71-8545-970a381483f6",
   "metadata": {},
   "outputs": [
    {
     "name": "stdout",
     "output_type": "stream",
     "text": [
      "95% confidence interval for population mean revenue: ($485.79, $514.21)\n"
     ]
    }
   ],
   "source": [
    "SE = 7.07\n",
    "lower = 500 - t_value * SE\n",
    "upper = 500 + t_value * SE\n",
    "print(\"95% confidence interval for population mean revenue: (${:.2f}, ${:.2f})\".format(lower, upper))"
   ]
  },
  {
   "cell_type": "code",
   "execution_count": null,
   "id": "f57907ae-c42c-4f72-a642-cd79b47a2a12",
   "metadata": {},
   "outputs": [],
   "source": [
    "\"\"\"Q14. A researcher hypothesizes that a new drug will decrease blood pressure by 10 mmHg. They conduct a\n",
    "clinical trial with 100 patients and find that the sample mean decrease in blood pressure is 8 mmHg with a\n",
    "standard deviation of 3 mmHg. Test the hypothesis with a significance level of 0.05.\"\"\""
   ]
  },
  {
   "cell_type": "code",
   "execution_count": null,
   "id": "3cd36de1-0e9f-42f4-9f8b-4f7664b11742",
   "metadata": {},
   "outputs": [],
   "source": [
    "\"\"\"Null Hypothesis: The new drug will not decrease blood pressure by 10 mmHg.\n",
    "Alternative Hypothesis: The new drug will decrease blood pressure by 10 mmHg.\n",
    "\n",
    "To test the hypothesis, we can use a one-sample t-test. The test statistic can be calculated as:\n",
    "\n",
    "t = (sample mean - hypothesized mean) / (standard deviation / sqrt(sample size))\n",
    "\n",
    "where the hypothesized mean is the decrease in blood pressure assumed by the null hypothesis.\n",
    "\n",
    "Plugging in the values given in the question, we get:\n",
    "\n",
    "t = (8 - 10) / (3 / sqrt(100)) = -6.67\n",
    "\n",
    "We can look up the p-value associated with this t-value in a t-distribution table with 99 degrees of freedom. The p-value is much smaller \n",
    "than the significance level of 0.05, indicating strong evidence against the null hypothesis.\"\"\"\""
   ]
  },
  {
   "cell_type": "code",
   "execution_count": null,
   "id": "81e078bf-2645-4c30-af13-c49b544251f3",
   "metadata": {},
   "outputs": [],
   "source": [
    "\"\"\"Q15. An electronics company produces a certain type of product with a mean weight of 5 pounds and a\n",
    "standard deviation of 0.5 pounds. A random sample of 25 products is taken, and the sample mean weight\n",
    "is found to be 4.8 pounds. Test the hypothesis that the true mean weight of the products is less than 5\n",
    "pounds with a significance level of 0.01.\"\"\""
   ]
  },
  {
   "cell_type": "code",
   "execution_count": null,
   "id": "178e0e3b-55bf-4b6e-8b93-5ed9739dd315",
   "metadata": {},
   "outputs": [],
   "source": [
    "\"\"\"Null Hypothesis: The true mean weight of the products is 5 pounds or greater.\n",
    "Alternative Hypothesis: The true mean weight of the products is less than 5 pounds.\n",
    "\n",
    "We can calculate the t-statistic as follows:\n",
    "\n",
    "t = (sample mean - hypothesized mean) / (standard deviation / sqrt(sample size))\n",
    "t = (4.8 - 5) / (0.5 / sqrt(25))\n",
    "t = -2\n",
    "\n",
    "Using a t-table or a t-distribution calculator with 24 degrees of freedom (sample size - 1), we can find the critical value for a one-tailed\n",
    "t-test with a significance level of 0.01 to be -2.492.\n",
    "\n",
    "Since the calculated t-statistic (-2) falls within the rejection region (-infinity, -2.492), we reject the null hypothesis and conclude that\n",
    "there is sufficient evidence to support the claim that the true mean weight of the products is less than 5 pounds at a significance level \n",
    "of 0.01.\"\"\""
   ]
  },
  {
   "cell_type": "code",
   "execution_count": null,
   "id": "8c781519-8cad-4923-b62d-49f61c7dcd5e",
   "metadata": {},
   "outputs": [],
   "source": [
    "\"\"\"Q16. Two groups of students are given different study materials to prepare for a test. The first group (n1 =\n",
    "30) has a mean score of 80 with a standard deviation of 10, and the second group (n2 = 40) has a mean\n",
    "score of 75 with a standard deviation of 8. Test the hypothesis that the population means for the two\n",
    "groups are equal with a significance level of 0.01.\"\"\""
   ]
  },
  {
   "cell_type": "code",
   "execution_count": 15,
   "id": "c21bd2cd-27dc-4f40-a487-b28b2c342eae",
   "metadata": {},
   "outputs": [
    {
     "name": "stdout",
     "output_type": "stream",
     "text": [
      "Fail to reject null hypothesis. The population means for the two groups are equal.\n"
     ]
    }
   ],
   "source": [
    "import math\n",
    "import scipy.stats as stats\n",
    "\n",
    "# Sample data\n",
    "n1 = 30\n",
    "mean1 = 80\n",
    "sd1 = 10\n",
    "\n",
    "n2 = 40\n",
    "mean2 = 75\n",
    "sd2 = 8\n",
    "\n",
    "# Calculate the test statistic and p-value\n",
    "s_p = math.sqrt(((n1-1)*(sd1**2) + (n2-1)*(sd2**2)) / (n1+n2-2))\n",
    "t = (mean1 - mean2) / (s_p * math.sqrt(1/n1 + 1/n2))\n",
    "p = 2 * (1 - stats.t.cdf(abs(t), n1+n2-2))\n",
    "\n",
    "# Compare p-value with significance level\n",
    "if p < 0.01:\n",
    "    print(\"Reject null hypothesis. The population means for the two groups are not equal.\")\n",
    "else:\n",
    "    print(\"Fail to reject null hypothesis. The population means for the two groups are equal.\")\n"
   ]
  },
  {
   "cell_type": "code",
   "execution_count": null,
   "id": "f3c5e7c0-de3d-4506-997f-1e98d33064cf",
   "metadata": {},
   "outputs": [],
   "source": [
    "\"\"\"Q17. A marketing company wants to estimate the average number of ads watched by viewers during a TV\n",
    "program. They take a random sample of 50 viewers and find that the sample mean is 4 with a standard\n",
    "deviation of 1.5. Estimate the population mean with a 99% confidence interval.\"\"\""
   ]
  },
  {
   "cell_type": "code",
   "execution_count": null,
   "id": "e15f3a4f-70db-4b67-a44e-0797b115c3b9",
   "metadata": {},
   "outputs": [],
   "source": [
    "\"\"\"Confidence interval = sample mean ± z * (standard error)\n",
    "\n",
    "where z is the z-score for the given level of confidence and standard error is the standard deviation of the sampling distribution of the\n",
    "mean, which is equal to the standard deviation of the population divided by the square root of the sample size.\n",
    "\n",
    "First, we need to calculate the z-score for a 99% confidence interval. From a standard normal distribution table, we find that the z-score \n",
    "for a 99% confidence interval is 2.576.\n",
    "\n",
    "Next, we can calculate the standard error as:\n",
    "\n",
    "standard error = standard deviation / sqrt(sample size)\n",
    "= 1.5 / sqrt(50)\n",
    "= 0.212\n",
    "\n",
    "Now, we can plug in the values and calculate the confidence interval:\n",
    "\n",
    "Confidence interval = 4 ± 2.576 * 0.212\n",
    "= (3.45, 4.55)\n",
    "\n",
    "Therefore, we can say with 99% confidence that the true population mean of the number of ads watched by viewers during a TV program is \n",
    "between 3.45 and 4.55.\"\"\""
   ]
  }
 ],
 "metadata": {
  "kernelspec": {
   "display_name": "Python 3 (ipykernel)",
   "language": "python",
   "name": "python3"
  },
  "language_info": {
   "codemirror_mode": {
    "name": "ipython",
    "version": 3
   },
   "file_extension": ".py",
   "mimetype": "text/x-python",
   "name": "python",
   "nbconvert_exporter": "python",
   "pygments_lexer": "ipython3",
   "version": "3.10.8"
  }
 },
 "nbformat": 4,
 "nbformat_minor": 5
}
