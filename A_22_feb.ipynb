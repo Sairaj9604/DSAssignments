{
 "cells": [
  {
   "cell_type": "code",
   "execution_count": null,
   "id": "2732e52b-c0ea-4f1c-962d-d6a82bfa7b12",
   "metadata": {},
   "outputs": [],
   "source": [
    "\"\"\"Q1. Write a python program to extract the video URL of the first five videos.\"\"\""
   ]
  },
  {
   "cell_type": "code",
   "execution_count": 1,
   "id": "7a4bf96a-28d1-4abd-9f7a-236b94d89aff",
   "metadata": {},
   "outputs": [
    {
     "name": "stdout",
     "output_type": "stream",
     "text": [
      "Requirement already satisfied: BeautifulSoup4 in /opt/conda/lib/python3.10/site-packages (4.11.1)\n",
      "Requirement already satisfied: soupsieve>1.2 in /opt/conda/lib/python3.10/site-packages (from BeautifulSoup4) (2.3.2.post1)\n",
      "Note: you may need to restart the kernel to use updated packages.\n"
     ]
    }
   ],
   "source": [
    "pip install BeautifulSoup4"
   ]
  },
  {
   "cell_type": "code",
   "execution_count": 2,
   "id": "5d6b8315-fa1e-4611-a0e2-a9213b4e7892",
   "metadata": {},
   "outputs": [
    {
     "name": "stdout",
     "output_type": "stream",
     "text": [
      "Requirement already satisfied: requests in /opt/conda/lib/python3.10/site-packages (2.28.1)\n",
      "Requirement already satisfied: charset-normalizer<3,>=2 in /opt/conda/lib/python3.10/site-packages (from requests) (2.1.1)\n",
      "Requirement already satisfied: idna<4,>=2.5 in /opt/conda/lib/python3.10/site-packages (from requests) (3.4)\n",
      "Requirement already satisfied: urllib3<1.27,>=1.21.1 in /opt/conda/lib/python3.10/site-packages (from requests) (1.26.13)\n",
      "Requirement already satisfied: certifi>=2017.4.17 in /opt/conda/lib/python3.10/site-packages (from requests) (2022.12.7)\n",
      "Note: you may need to restart the kernel to use updated packages.\n"
     ]
    }
   ],
   "source": [
    "pip install requests"
   ]
  },
  {
   "cell_type": "code",
   "execution_count": 3,
   "id": "1dc1924b-d730-419f-894e-8e3a126bebf5",
   "metadata": {},
   "outputs": [
    {
     "name": "stdout",
     "output_type": "stream",
     "text": [
      "[]\n"
     ]
    }
   ],
   "source": [
    "import requests\n",
    "from bs4 import BeautifulSoup\n",
    "\n",
    "# URL of the YouTube channel\n",
    "url = 'https://www.youtube.com/@PW-Foundation/videos'\n",
    "\n",
    "# Send a GET request to the URL\n",
    "response = requests.get(url)\n",
    "\n",
    "# Parse the HTML content using BeautifulSoup\n",
    "soup = BeautifulSoup(response.content, 'html.parser')\n",
    "\n",
    "# Find all the video links on the page\n",
    "video_links = soup.find_all('a', {'class': 'yt-simple-endpoint style-scope ytd-grid-video-renderer'})\n",
    "\n",
    "# Extract the video URLs of the first five videos\n",
    "video_urls = []\n",
    "for link in video_links[:5]:\n",
    "    video_url = 'https://www.youtube.com' + link.get('href')\n",
    "    video_urls.append(video_url)\n",
    "\n",
    "# Print the video URLs\n",
    "print(video_urls)"
   ]
  },
  {
   "cell_type": "code",
   "execution_count": null,
   "id": "6dbc4be0-c28c-407d-a6c9-686fab835145",
   "metadata": {},
   "outputs": [],
   "source": [
    "\"\"\"Q2. Write a python program to extract the URL of the video thumbnails of the first five videos.\"\"\""
   ]
  },
  {
   "cell_type": "code",
   "execution_count": 4,
   "id": "6c04f4b0-5cda-4d85-902c-581aeb127b36",
   "metadata": {},
   "outputs": [
    {
     "name": "stdout",
     "output_type": "stream",
     "text": [
      "[]\n"
     ]
    }
   ],
   "source": [
    "import requests\n",
    "from bs4 import BeautifulSoup\n",
    "\n",
    "# URL of the YouTube channel\n",
    "url = 'https://www.youtube.com/@PW-Foundation/videos'\n",
    "\n",
    "# Send a GET request to the URL\n",
    "response = requests.get(url)\n",
    "\n",
    "# Parse the HTML content using BeautifulSoup\n",
    "soup = BeautifulSoup(response.content, 'html.parser')\n",
    "\n",
    "# Find all the video links on the page\n",
    "video_links = soup.find_all('a', {'class': 'yt-simple-endpoint style-scope ytd-grid-video-renderer'})\n",
    "\n",
    "# Extract the thumbnail URLs of the first five videos\n",
    "thumbnail_urls = []\n",
    "for link in video_links[:5]:\n",
    "    thumbnail_url = link.find('img')['src']\n",
    "    thumbnail_urls.append(thumbnail_url)\n",
    "\n",
    "# Print the thumbnail URLs\n",
    "print(thumbnail_urls)"
   ]
  },
  {
   "cell_type": "code",
   "execution_count": null,
   "id": "29f21cd4-2a6e-401b-8108-d1f0e1bf5426",
   "metadata": {},
   "outputs": [],
   "source": [
    "\"\"\"Q3. Write a python program to extract the title of the first five videos.\"\"\""
   ]
  },
  {
   "cell_type": "code",
   "execution_count": 5,
   "id": "071307f4-a319-488a-ac59-215d3105af07",
   "metadata": {},
   "outputs": [
    {
     "name": "stdout",
     "output_type": "stream",
     "text": [
      "[]\n"
     ]
    }
   ],
   "source": [
    "import requests\n",
    "from bs4 import BeautifulSoup\n",
    "\n",
    "# URL of the YouTube channel\n",
    "url = 'https://www.youtube.com/@PW-Foundation/videos'\n",
    "\n",
    "# Send a GET request to the URL\n",
    "response = requests.get(url)\n",
    "\n",
    "# Parse the HTML content using BeautifulSoup\n",
    "soup = BeautifulSoup(response.content, 'html.parser')\n",
    "\n",
    "# Find all the video links on the page\n",
    "video_links = soup.find_all('a', {'class': 'yt-simple-endpoint style-scope ytd-grid-video-renderer'})\n",
    "\n",
    "# Extract the titles of the first five videos\n",
    "video_titles = []\n",
    "for link in video_links[:5]:\n",
    "    video_title = link.find('yt-formatted-string').text\n",
    "    video_titles.append(video_title)\n",
    "\n",
    "# Print the video titles\n",
    "print(video_titles)"
   ]
  },
  {
   "cell_type": "code",
   "execution_count": null,
   "id": "9e6a744c-8966-4210-b07d-cd6bfac2de33",
   "metadata": {},
   "outputs": [],
   "source": [
    "\"\"\"Q4. Write a python program to extract the number of views of the first five videos.\"\"\""
   ]
  },
  {
   "cell_type": "code",
   "execution_count": 6,
   "id": "fc9bf14e-f4f1-480c-beab-18ce673fe0e2",
   "metadata": {},
   "outputs": [],
   "source": [
    "import requests\n",
    "from bs4 import BeautifulSoup\n",
    "\n",
    "url = 'https://www.youtube.com/@PW-Foundation/videos'\n",
    "\n",
    "response = requests.get(url)\n",
    "soup = BeautifulSoup(response.text, 'html.parser')\n",
    "\n",
    "videos = soup.select('h3 > a')\n",
    "for i, video in enumerate(videos[:5]):\n",
    "    video_url = f\"https://www.youtube.com{video['href']}\"\n",
    "    video_response = requests.get(video_url)\n",
    "    video_soup = BeautifulSoup(video_response.text, 'html.parser')\n",
    "    views = video_soup.select_one('.view-count').text\n",
    "    print(f\"Video {i+1}: {views}\")"
   ]
  },
  {
   "cell_type": "code",
   "execution_count": null,
   "id": "96cf8537-99f2-48a9-8aff-3452414a4f9b",
   "metadata": {},
   "outputs": [],
   "source": [
    "\"\"\"Q5. Write a python program to extract the time of posting of video for the first five videos.\"\"\""
   ]
  },
  {
   "cell_type": "code",
   "execution_count": 7,
   "id": "4ef633a2-2500-46d0-b32b-072a37dac16f",
   "metadata": {},
   "outputs": [],
   "source": [
    "import requests\n",
    "from bs4 import BeautifulSoup\n",
    "\n",
    "url = 'https://www.youtube.com/@PW-Foundation/videos'\n",
    "\n",
    "response = requests.get(url)\n",
    "soup = BeautifulSoup(response.text, 'html.parser')\n",
    "\n",
    "videos = soup.select('h3 > a')\n",
    "for i, video in enumerate(videos[:5]):\n",
    "    video_url = f\"https://www.youtube.com{video['href']}\"\n",
    "    video_response = requests.get(video_url)\n",
    "    video_soup = BeautifulSoup(video_response.text, 'html.parser')\n",
    "    post_time = video_soup.select_one('.date-time').text\n",
    "    print(f\"Video {i+1}: {post_time}\")"
   ]
  }
 ],
 "metadata": {
  "kernelspec": {
   "display_name": "Python 3 (ipykernel)",
   "language": "python",
   "name": "python3"
  },
  "language_info": {
   "codemirror_mode": {
    "name": "ipython",
    "version": 3
   },
   "file_extension": ".py",
   "mimetype": "text/x-python",
   "name": "python",
   "nbconvert_exporter": "python",
   "pygments_lexer": "ipython3",
   "version": "3.10.8"
  }
 },
 "nbformat": 4,
 "nbformat_minor": 5
}
