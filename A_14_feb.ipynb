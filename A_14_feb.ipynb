{
 "cells": [
  {
   "cell_type": "code",
   "execution_count": null,
   "id": "18b1157a-1b7e-4259-b44d-81cb23732e44",
   "metadata": {},
   "outputs": [],
   "source": [
    "'''Q1. What is multithreading in python? Why is it used? Name the module used to handle threads in python'''\n",
    "'''Multithreading is a threading technique in Python programming to run multiple threads concurrently by rapidly switching between \n",
    "threads with a CPU help'''\n",
    "# import threading\n",
    "#is the module that we use in python"
   ]
  },
  {
   "cell_type": "code",
   "execution_count": null,
   "id": "c95c4dc7-f483-4a48-8483-541c28c7b9d9",
   "metadata": {},
   "outputs": [],
   "source": [
    "'''Q2. Why threading module used? write the use of the following functions'''\n",
    "'''Threads allows a program to operate more efficiently by doing multiple things at the same time. Threads can be used to perform complicated \n",
    "tasks in the background without interrupting the main program.'''\n",
    "#activeCount\n",
    "'''Returns the number of thread objects that are active.'''\n",
    "\n",
    "#currentThread\n",
    "'''Returns the number of thread objects in the caller's thread control.'''\n",
    "\n",
    "#enumerate\n",
    "'''Returns a list of all thread objects that are currently active.'''\n"
   ]
  },
  {
   "cell_type": "code",
   "execution_count": null,
   "id": "e6f0022e-0413-4db4-b086-898649b77bb7",
   "metadata": {},
   "outputs": [],
   "source": [
    "'''3. Explain the following functions\"\"\"\n",
    "#run\n",
    "\"\"\"The run() method is the entry point for a thread.\"\"\"\n",
    "#start\n",
    "\"\"\"The start() method starts a thread by calling the run method.\"\"\"\n",
    "#join\n",
    "\"\"\"The join() waits for threads to terminate.\"\"\"\n",
    "#isAlive\n",
    "\"\"\"The isAlive() method checks whether a thread is still executing.\"\"\""
   ]
  },
  {
   "cell_type": "code",
   "execution_count": null,
   "id": "2f5e508a-1c48-4afb-a4ee-e783ac85f6cd",
   "metadata": {},
   "outputs": [],
   "source": [
    "\"\"\"Q4. Write a python program to create two threads. Thread one must print the list of squares and thread two must print the list of cubes\"\"\"\n"
   ]
  },
  {
   "cell_type": "code",
   "execution_count": 1,
   "id": "b1166a4e-8345-4773-8b45-fe187a77a6cd",
   "metadata": {},
   "outputs": [],
   "source": [
    "import threading\n",
    "import time"
   ]
  },
  {
   "cell_type": "code",
   "execution_count": 10,
   "id": "4a2ad780-e0a6-4472-8232-e288f81ce8cc",
   "metadata": {},
   "outputs": [],
   "source": [
    "def print_square():\n",
    "    for i in range(1,11):\n",
    "        print(f\"Square of {i} = {i**2}\")"
   ]
  },
  {
   "cell_type": "code",
   "execution_count": 11,
   "id": "74167d23-6425-4cee-8646-e64071e8db45",
   "metadata": {},
   "outputs": [],
   "source": [
    "def print_cubes():\n",
    "    for i in range(1,11):\n",
    "        print(f\"Square of {i} = {i**3}\")"
   ]
  },
  {
   "cell_type": "code",
   "execution_count": 12,
   "id": "dbeb5863-1e41-45c9-a6ed-4a04abe50f9f",
   "metadata": {},
   "outputs": [
    {
     "name": "stdout",
     "output_type": "stream",
     "text": [
      "Square of 1 = 1\n",
      "Square of 2 = 4\n",
      "Square of 3 = 9\n",
      "Square of 4 = 16\n",
      "Square of 5 = 25\n",
      "Square of 6 = 36\n",
      "Square of 7 = 49\n",
      "Square of 8 = 64\n",
      "Square of 9 = 81\n",
      "Square of 10 = 100\n",
      "Square of 1 = 1\n",
      "Square of 2 = 8\n",
      "Square of 3 = 27\n",
      "Square of 4 = 64\n",
      "Square of 5 = 125\n",
      "Square of 6 = 216\n",
      "Square of 7 = 343\n",
      "Square of 8 = 512\n",
      "Square of 9 = 729\n",
      "Square of 10 = 1000\n"
     ]
    }
   ],
   "source": [
    "if __name__ == '__main__':\n",
    "    t1 = threading.Thread(target = print_square)\n",
    "    t2 = threading.Thread(target = print_cubes)\n",
    "    t1.start()\n",
    "    t2.start()\n",
    "    t1.join()\n",
    "    t2.join()"
   ]
  },
  {
   "cell_type": "code",
   "execution_count": null,
   "id": "0950a9f7-2d64-46e0-9d78-566012c2023b",
   "metadata": {},
   "outputs": [],
   "source": [
    "'''Q5.State advantages and disadvantages of multithreading'''\n",
    "'''\n",
    "Advantages of multithreading:\n",
    "\n",
    "Improved performance: Multithreading can help improve the performance of a program by allowing it to execute multiple tasks simultaneously. \n",
    "This can lead to faster completion of tasks and more efficient use of system resources.\n",
    "\n",
    "Resource sharing: Threads within a process can share the same resources such as memory, files, and network connections. This makes it easier to \n",
    "develop programs that require data sharing or communication between threads.\n",
    "\n",
    "Responsiveness: Multithreading allows a program to remain responsive to user input while performing long-running tasks in the background. \n",
    "This is particularly useful for GUI-based applications that need to remain responsive to user actions.\n",
    "\n",
    "Scalability: Multithreading can help improve the scalability of a program by allowing it to utilize multiple CPUs or cores.\n",
    "'''\n",
    "\n",
    "'''\n",
    "Disadvantages of multithreading:\n",
    "\n",
    "Complexity: Multithreading can increase the complexity of a program, as developers need to carefully manage thread synchronization and avoid \n",
    "race conditions that can lead to bugs and program crashes.\n",
    "\n",
    "Resource contention: When multiple threads access the same resources simultaneously, contention can occur, leading to performance degradation \n",
    "and potential deadlocks.\n",
    "\n",
    "Debugging: Debugging multithreaded programs can be more challenging than single-threaded programs, as bugs can be difficult to reproduce and diagnose.\n",
    "\n",
    "Overhead: Creating and managing threads incurs additional overhead compared to single-threaded programs, which can reduce performance in some cases.\n",
    "'''"
   ]
  },
  {
   "cell_type": "code",
   "execution_count": null,
   "id": "21a58c3d-7399-4216-b192-422aa954bdc1",
   "metadata": {},
   "outputs": [],
   "source": [
    "'''6. Explain deadlocks and race conditions.'''\n",
    "\"\"\"\n",
    "A deadlock occurs when two or more threads are blocked and waiting for each other to release resources that they need to proceed. \n",
    "This can happen when each thread holds a resource that the other thread needs and neither thread can proceed until the other releases \n",
    "the resource. Deadlocks can result in a program becoming unresponsive and potentially crashing.\"\"\"\n",
    "\"\"\"\n",
    "A race condition occurs when the behavior of a program depends on the timing of events in a concurrent program. Specifically, when multiple \n",
    "threads access shared resources without proper synchronization, the resulting order of execution of the threads can be unpredictable, and \n",
    "the program's behavior can vary from run to run.\"\"\""
   ]
  }
 ],
 "metadata": {
  "kernelspec": {
   "display_name": "Python 3 (ipykernel)",
   "language": "python",
   "name": "python3"
  },
  "language_info": {
   "codemirror_mode": {
    "name": "ipython",
    "version": 3
   },
   "file_extension": ".py",
   "mimetype": "text/x-python",
   "name": "python",
   "nbconvert_exporter": "python",
   "pygments_lexer": "ipython3",
   "version": "3.10.8"
  }
 },
 "nbformat": 4,
 "nbformat_minor": 5
}
