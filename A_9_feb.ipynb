{
 "cells": [
  {
   "cell_type": "code",
   "execution_count": 2,
   "id": "e894b071-b50c-4ef3-b8ef-70c0de073b25",
   "metadata": {},
   "outputs": [
    {
     "name": "stdin",
     "output_type": "stream",
     "text": [
      " Nexon\n",
      " 150\n",
      " 18\n"
     ]
    },
    {
     "name": "stdout",
     "output_type": "stream",
     "text": [
      "('Nexon', 150, 18)\n"
     ]
    }
   ],
   "source": [
    "'''Create a vehicle class with an init method having instance variables as name_of_vehicle, max_speed\n",
    "and average_of_vehicle.'''\n",
    "class vehicle:\n",
    "    def __init__(self,name_of_vehicle,max_speed,average_of_vehicle):\n",
    "        self.name_of_vehicle = name_of_vehicle\n",
    "        self.max_speed = max_speed\n",
    "        self.average_of_vehicle = average_of_vehicle\n",
    "    def return_detail(self):\n",
    "        return (self.name_of_vehicle , self.max_speed,self.average_of_vehicle)\n",
    "#a = vehicle(\"Tata\",120,45)\n",
    "name = input()\n",
    "speed = int(input())\n",
    "average = int(input())\n",
    "a = vehicle(name,speed,average)\n",
    "print(a.return_detail())\n"
   ]
  },
  {
   "cell_type": "code",
   "execution_count": 3,
   "id": "c7cc74e3-d88b-4cd1-bae9-e7f9d9c6febe",
   "metadata": {},
   "outputs": [
    {
     "name": "stdout",
     "output_type": "stream",
     "text": [
      "Sedan has a seating capacity of 5\n"
     ]
    }
   ],
   "source": [
    "class Vehicle:\n",
    "    def __init__(self, name_of_vehicle, max_speed, average_of_vehicle):\n",
    "        self.name_of_vehicle = name_of_vehicle\n",
    "        self.max_speed = max_speed\n",
    "        self.average_of_vehicle = average_of_vehicle\n",
    "\n",
    "    def seating_capacity(self, capacity):\n",
    "        return f\"{self.name_of_vehicle} has a seating capacity of {capacity}\"\n",
    "\n",
    "class Car(Vehicle):\n",
    "    def __init__(self, name_of_vehicle, max_speed, average_of_vehicle, num_doors):\n",
    "        super().__init__(name_of_vehicle, max_speed, average_of_vehicle)\n",
    "        self.num_doors = num_doors\n",
    "\n",
    "\n",
    "car = Car(\"Sedan\", 120, 30, 4)\n",
    "print(car.seating_capacity(5)) \n",
    "\n"
   ]
  },
  {
   "cell_type": "code",
   "execution_count": 1,
   "id": "5558f9da-3e19-49b1-bc9f-20d490e85187",
   "metadata": {},
   "outputs": [
    {
     "name": "stdout",
     "output_type": "stream",
     "text": [
      "Parent method 1\n",
      "Parent method 2\n",
      "Child method\n"
     ]
    }
   ],
   "source": [
    "\"\"\"Q3. What is multiple inheritance? Write a python code to demonstrate multiple inheritance.\n",
    "When a class is derived from more than one base class it is called multiple Inheritance. \n",
    "The derived class inherits all the features of the base case.\"\"\"\n",
    "class parent1:\n",
    "    def __init__(self):\n",
    "        self.name = \"parent1\"\n",
    "    def parent_method1(self):\n",
    "        print(\"Parent method 1\")\n",
    "class parent2:\n",
    "    def __init__(self):\n",
    "        self.name = \"parent2\"\n",
    "    def parent_method2(self):\n",
    "        print(\"Parent method 2\")\n",
    "        \n",
    "class child(parent1,parent2):\n",
    "    def __init__(self):\n",
    "        parent1.__init__(self)\n",
    "        parent2.__init__(self)\n",
    "    def child_method(self):\n",
    "        print(\"Child method\")\n",
    "    \n",
    "    \n",
    "c = child()\n",
    "c.parent_method1()\n",
    "c.parent_method2()\n",
    "\n",
    "c.child_method()"
   ]
  },
  {
   "cell_type": "code",
   "execution_count": 6,
   "id": "6ce06042-1f49-45dc-8aa3-0ef1ffe7e726",
   "metadata": {},
   "outputs": [
    {
     "name": "stdout",
     "output_type": "stream",
     "text": [
      "sai\n",
      "25\n",
      "Sai\n",
      "30\n"
     ]
    }
   ],
   "source": [
    "\"\"\"Q4. What are getter and setter in python? Create a class and create a getter and a setter method in this\n",
    "class.\"\"\"\n",
    "\"\"\"getters and setters are methods that are used to retrieve or set the values of an object's attributes. \n",
    "They are often used to enforce encapsulation and data validation in object-oriented programming.\n",
    "A getter method, also known as an accessor method, retrieves the value of an attribute. A setter method, also known as a mutator method, \n",
    "sets the value of an attribute.\"\"\"\n",
    "class person:\n",
    "    def __init__(self,name,age):\n",
    "        self.__name = name\n",
    "        self.__age = age\n",
    "    def get_name(self):\n",
    "        return self.__name\n",
    "    def set_name(self,name):\n",
    "        if isinstance(name,str):\n",
    "            self.__name = name\n",
    "        else:\n",
    "            raise TypeError(\"invalid input\")\n",
    "    def get_age(self):\n",
    "        return self.__age\n",
    "    def set_age(self,age):\n",
    "        if isinstance(age,int) and age>0:\n",
    "            self.__age = age\n",
    "        else:\n",
    "            raise TypeError(\"Invalid input\")\n",
    "    name = property(get_name,set_name)\n",
    "    age = property(get_age,set_name)\n",
    "person1 = person(\"sai\",25)\n",
    "print(person1.name)\n",
    "print(person1.age)\n",
    "\n",
    "person.name = \"Sai\"\n",
    "print(person1.name)\n",
    "\n",
    "\n",
    "person.age = 30\n",
    "print(person1.age)\n",
    "        "
   ]
  },
  {
   "cell_type": "code",
   "execution_count": 9,
   "id": "e91cb7f2-62c9-42a8-990a-153373457532",
   "metadata": {},
   "outputs": [
    {
     "name": "stdout",
     "output_type": "stream",
     "text": [
      "78.5\n",
      "250\n"
     ]
    }
   ],
   "source": [
    "\"\"\"Q5.What is method overriding in python? Write a python code to demonstrate method overriding.\"\"\"\n",
    "\"\"\" Method overriding is a feature in object-oriented programming that allows a subclass to provide a new implementation for a method that \n",
    "is already defined in its superclass. The purpose of method overriding is to allow a subclass to provide its own implementation for a \n",
    "method that it inherits from its superclass, while still preserving the behavior defined by the superclass.\"\"\"\n",
    "class shape:\n",
    "    def __init__(self):\n",
    "        raise NotImplementedError(\"Subclass method need to be implemented\")\n",
    "\n",
    "class circle(shape):\n",
    "    def __init__(self,radius):\n",
    "        self.radius = radius\n",
    "    def getarea(self):\n",
    "        return 3.14*self.radius*self.radius\n",
    "\n",
    "class rectangle(shape):\n",
    "    def __init__(self,length,bredth):\n",
    "        self.length = length\n",
    "        self.bredth = bredth\n",
    "    def getarea(self):\n",
    "        return self.length*self.bredth\n",
    "    \n",
    "    \n",
    "c = circle(5)\n",
    "print(c.getarea())\n",
    "r = rectangle(10,25)\n",
    "print(r.getarea())\n",
    "\n",
    "        "
   ]
  }
 ],
 "metadata": {
  "kernelspec": {
   "display_name": "Python 3 (ipykernel)",
   "language": "python",
   "name": "python3"
  },
  "language_info": {
   "codemirror_mode": {
    "name": "ipython",
    "version": 3
   },
   "file_extension": ".py",
   "mimetype": "text/x-python",
   "name": "python",
   "nbconvert_exporter": "python",
   "pygments_lexer": "ipython3",
   "version": "3.10.8"
  }
 },
 "nbformat": 4,
 "nbformat_minor": 5
}
