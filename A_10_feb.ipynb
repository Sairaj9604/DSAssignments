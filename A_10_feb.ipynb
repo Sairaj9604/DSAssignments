{
 "cells": [
  {
   "cell_type": "code",
   "execution_count": null,
   "id": "fef6a620-8aa2-4496-a8a7-32673df076c5",
   "metadata": {},
   "outputs": [],
   "source": [
    "\"\"\"Q1. Which function is used to open a file? What are the different modes of opening a file? Explain each mode\n",
    "of file opening.\"\"\"\n",
    "'''\n",
    "\"r\" - Read - Default value. Opens a file for reading, error if the file does not exist\n",
    "\n",
    "\"a\" - Append - Opens a file for appending, creates the file if it does not exist\n",
    "\n",
    "\"w\" - Write - Opens a file for writing, creates the file if it does not exist\n",
    "\n",
    "\"x\" - Create - Creates the specified file, returns an error if the file exists'''"
   ]
  },
  {
   "cell_type": "code",
   "execution_count": null,
   "id": "481fc31c-ff4b-4bc4-9a4c-4188d32e4c4b",
   "metadata": {},
   "outputs": [],
   "source": [
    "\"\"\"Q2. Why close() function is used? Why is it important to close a file?\"\"\"\n",
    "'''The close() method closes an open file. You should always close your files, \n",
    "in some cases, due to buffering, changes made to a file may not show until you close the file.'''"
   ]
  },
  {
   "cell_type": "code",
   "execution_count": 2,
   "id": "905f605f-d396-4a1c-9fc0-d88a573f0d3c",
   "metadata": {},
   "outputs": [
    {
     "name": "stdout",
     "output_type": "stream",
     "text": [
      "I want to become a data scientist\n"
     ]
    }
   ],
   "source": [
    "\"\"\"Q3. Write a python program to create a text file. Write ‘I want to become a Data Scientist’ in that file. Then\n",
    "close the file. Open this file and read the content of the file.\"\"\"\n",
    "\n",
    "with open(\"text1.txt\",\"w\") as file:\n",
    "    file.write('I want to become a data scientist')\n",
    "file.close()\n",
    "\n",
    "with open(\"text1.txt\",\"r\") as file:\n",
    "    rea = file.read()\n",
    "    print(rea)"
   ]
  },
  {
   "cell_type": "code",
   "execution_count": 4,
   "id": "d5e2fc4b-ca7e-478b-b822-605814323d83",
   "metadata": {},
   "outputs": [
    {
     "name": "stdout",
     "output_type": "stream",
     "text": [
      "I want to become a data scientist\n"
     ]
    }
   ],
   "source": [
    "\"\"\"Q4. Explain the following with python code: read(), readline() and readlines().\"\"\"\n",
    "\n",
    "with open(\"text1.txt\",\"w\") as file:\n",
    "    file.write('I want to become a data scientist')\n",
    "file.close()\n",
    "#read()\n",
    "with open(\"text1.txt\",\"r\") as file:\n",
    "    rea = file.read()\n",
    "    print(rea)\n",
    "#readline()\n",
    "\n",
    "# with open(\"text1.txt\", \"r\") as file:\n",
    "#     line = file.readline()\n",
    "#     while line:\n",
    "#         print(line)\n",
    "#         line = file.readline()\n",
    "\n",
    "#readlines()\n",
    "\n",
    "# with open(\"text1.txt\", \"r\") as file:\n",
    "#     lines = file.readlines()\n",
    "#     for line in lines:\n",
    "#         print(line)\n"
   ]
  },
  {
   "cell_type": "code",
   "execution_count": null,
   "id": "8afe3f20-7203-4c60-884b-3e3a6fcab7f5",
   "metadata": {},
   "outputs": [],
   "source": [
    "'''Q5. Explain why with statement is used with open(). What is the advantage of using with statement and\n",
    "open() together?'''\n",
    "\n",
    "'''In the case of the open() function, the with statement provides a convenient way to handle file objects. \n",
    "When the with statement is used with open(), the file is automatically closed when the context is exited, even if an exception occurs during \n",
    "the execution of the code in the context.'''\n",
    "\n",
    "'''The advantage of using the with statement with open() is that it provides a convenient and efficient way to handle file objects, while \n",
    "also ensuring that the file is properly closed and any resources are released, even if an exception occurs during the execution of the code'''"
   ]
  },
  {
   "cell_type": "code",
   "execution_count": 3,
   "id": "d1e13d6f-d668-435c-8f6d-1ba95b27e70b",
   "metadata": {},
   "outputs": [],
   "source": [
    "'''Q6. Explain the write() and writelines() functions. Give a suitable example.'''\n",
    "\n",
    "'''The write() function writes a single string to the file consider an example'''\n",
    "\n",
    "with open(\"texta1.txt\", \"w\") as file:\n",
    "    file.write(\"I want to become a Data Scientist\")\n",
    "    \n",
    "'''The writelines() function writes a list of strings to the file. '''\n",
    "\n",
    "with open(\"texta2.txt\", \"w\") as file:\n",
    "    lines = [\"I want to become a Data Scientist\", \"Data Science is an exciting field\"]\n",
    "    file.writelines(lines)"
   ]
  }
 ],
 "metadata": {
  "kernelspec": {
   "display_name": "Python 3 (ipykernel)",
   "language": "python",
   "name": "python3"
  },
  "language_info": {
   "codemirror_mode": {
    "name": "ipython",
    "version": 3
   },
   "file_extension": ".py",
   "mimetype": "text/x-python",
   "name": "python",
   "nbconvert_exporter": "python",
   "pygments_lexer": "ipython3",
   "version": "3.10.8"
  }
 },
 "nbformat": 4,
 "nbformat_minor": 5
}
