{
 "cells": [
  {
   "cell_type": "code",
   "execution_count": null,
   "id": "d3949484-a4ba-40ef-9cc7-d981c378a7c2",
   "metadata": {},
   "outputs": [],
   "source": [
    "\"\"\"Q1. Write a Python function that takes in two arrays of data and calculates the F-value for a variance ratio\n",
    "test. The function should return the F-value and the corresponding p-value for the test.\"\"\""
   ]
  },
  {
   "cell_type": "code",
   "execution_count": 1,
   "id": "e2bdbccb-ee30-426b-9686-15414f629b7c",
   "metadata": {},
   "outputs": [
    {
     "name": "stdout",
     "output_type": "stream",
     "text": [
      "F-value: 25.0, p-value: 0.0010528257933665396\n"
     ]
    }
   ],
   "source": [
    "from scipy.stats import f_oneway\n",
    "\n",
    "def variance_ratio_test(array1, array2):\n",
    "    f_value, p_value = f_oneway(array1, array2)\n",
    "    return f_value, p_value\n",
    "\n",
    "array1 = [1, 2, 3, 4, 5]\n",
    "array2 = [6, 7, 8, 9, 10]\n",
    "f_value, p_value = variance_ratio_test(array1, array2)\n",
    "print(f\"F-value: {f_value}, p-value: {p_value}\")"
   ]
  },
  {
   "cell_type": "code",
   "execution_count": null,
   "id": "d7a5b85a-f207-4a82-8fa3-62e4e3a967bc",
   "metadata": {},
   "outputs": [],
   "source": [
    "\"\"\"Q2. Given a significance level of 0.05 and the degrees of freedom for the numerator and denominator of an\n",
    "F-distribution, write a Python function that returns the critical F-value for a two-tailed test.\"\"\""
   ]
  },
  {
   "cell_type": "code",
   "execution_count": 2,
   "id": "725e74ee-2ac8-4817-8daf-e415328d9f50",
   "metadata": {},
   "outputs": [
    {
     "data": {
      "text/plain": [
       "(0.06975177682217751, 4.474184809637748)"
      ]
     },
     "execution_count": 2,
     "metadata": {},
     "output_type": "execute_result"
    }
   ],
   "source": [
    "from scipy.stats import f\n",
    "\n",
    "def f_critical(alpha, dfn, dfd):\n",
    "    return f.ppf(alpha/2, dfn, dfd), f.ppf(1-alpha/2, dfn, dfd)\n",
    "a = f_critical(0.05, 3, 12)\n",
    "a"
   ]
  },
  {
   "cell_type": "code",
   "execution_count": null,
   "id": "e7517973-6f8c-41eb-96c2-37797aba2e12",
   "metadata": {},
   "outputs": [],
   "source": [
    "\"\"\"Q3. Write a Python program that generates random samples from two normal distributions with known variances and uses an F-test to determine if the\n",
    "variances are equal. The program should output the F-value, degrees of freedom, and p-value for the test.\"\"\""
   ]
  },
  {
   "cell_type": "code",
   "execution_count": 3,
   "id": "5d87cc28-b703-43f7-a8d1-2c8329b9d061",
   "metadata": {},
   "outputs": [
    {
     "name": "stdout",
     "output_type": "stream",
     "text": [
      "F-value: 1.653695109887893\n",
      "Degrees of freedom: 49 , 49\n",
      "P-value: 0.08141628908015226\n"
     ]
    }
   ],
   "source": [
    "import numpy as np\n",
    "from scipy.stats import f\n",
    "\n",
    "# Generate random samples from two normal distributions with known variances\n",
    "sample1 = np.random.normal(loc=0, scale=1, size=50)\n",
    "sample2 = np.random.normal(loc=0, scale=1.5, size=50)\n",
    "\n",
    "# Calculate the variances of the samples\n",
    "var1 = np.var(sample1)\n",
    "var2 = np.var(sample2)\n",
    "\n",
    "# Calculate the F-value and p-value for the F-test\n",
    "df1 = len(sample1) - 1\n",
    "df2 = len(sample2) - 1\n",
    "f_value = var1 / var2 if var1 > var2 else var2 / var1\n",
    "p_value = f.sf(f_value, df1, df2) * 2\n",
    "\n",
    "# Print the results\n",
    "print(\"F-value:\", f_value)\n",
    "print(\"Degrees of freedom:\", df1, \",\", df2)\n",
    "print(\"P-value:\", p_value)\n"
   ]
  },
  {
   "cell_type": "code",
   "execution_count": null,
   "id": "46514261-89e8-4fae-9c90-e2ee448bf1cb",
   "metadata": {},
   "outputs": [],
   "source": [
    "\"\"\"Q4.The variances of two populations are known to be 10 and 15. A sample of 12 observations is taken from\n",
    "each population. Conduct an F-test at the 5% significance level to determine if the variances are\n",
    "significantly different.\"\"\""
   ]
  },
  {
   "cell_type": "code",
   "execution_count": 4,
   "id": "133c3451-7435-40e4-a624-de783b123404",
   "metadata": {},
   "outputs": [
    {
     "name": "stdout",
     "output_type": "stream",
     "text": [
      "F-statistic: 1.8265190642411375\n",
      "p-value: 0.33229374723547433\n"
     ]
    }
   ],
   "source": [
    "import numpy as np\n",
    "from scipy.stats import f\n",
    "\n",
    "# Population variances\n",
    "var1 = 10\n",
    "var2 = 15\n",
    "\n",
    "# Sample sizes\n",
    "n1 = 12\n",
    "n2 = 12\n",
    "\n",
    "# Generate random samples\n",
    "np.random.seed(1)\n",
    "sample1 = np.random.normal(loc=0, scale=np.sqrt(var1), size=n1)\n",
    "sample2 = np.random.normal(loc=0, scale=np.sqrt(var2), size=n2)\n",
    "\n",
    "# Calculate sample variances\n",
    "s1_sq = np.var(sample1, ddof=1)#delta degree of freedom\n",
    "\n",
    "s2_sq = np.var(sample2, ddof=1)\n",
    "\n",
    "# Calculate F-statistic\n",
    "F = s1_sq / s2_sq\n",
    "\n",
    "# Calculate p-value\n",
    "df1 = n1 - 1\n",
    "df2 = n2 - 1\n",
    "p_value = 2 * min(f.cdf(F, df1, df2), 1 - f.cdf(F, df1, df2))\n",
    "\n",
    "# Print results\n",
    "print(\"F-statistic:\", F)\n",
    "print(\"p-value:\", p_value)\n"
   ]
  },
  {
   "cell_type": "code",
   "execution_count": null,
   "id": "12a4ccc0-6f9c-46f1-8f39-b3f9459f68c4",
   "metadata": {},
   "outputs": [],
   "source": [
    "\"\"\"Q5. A manufacturer claims that the variance of the diameter of a certain product is 0.005. A sample of 25\n",
    "products is taken, and the sample variance is found to be 0.006. Conduct an F-test at the 1% significance\n",
    "level to determine if the claim is justified.\"\"\""
   ]
  },
  {
   "cell_type": "code",
   "execution_count": 5,
   "id": "d080109a-b7b0-4c00-bf63-a7d409f7656b",
   "metadata": {},
   "outputs": [
    {
     "name": "stdout",
     "output_type": "stream",
     "text": [
      "Fail to reject null hypothesis\n",
      "F-statistic:  1.2\n",
      "p-value:  1.0\n"
     ]
    }
   ],
   "source": [
    "import scipy.stats as stats\n",
    "\n",
    "alpha = 0.01\n",
    "dfn = 24\n",
    "dfd = float('inf')\n",
    "sample_var = 0.006\n",
    "pop_var = 0.005\n",
    "\n",
    "f_stat = sample_var / pop_var\n",
    "p_val = 1 - stats.f.cdf(f_stat, dfn, dfd)\n",
    "\n",
    "if p_val < alpha:\n",
    "    print(\"Reject null hypothesis\")\n",
    "else:\n",
    "    print(\"Fail to reject null hypothesis\")\n",
    "    \n",
    "print(\"F-statistic: \", f_stat)\n",
    "print(\"p-value: \", p_val)\n"
   ]
  },
  {
   "cell_type": "code",
   "execution_count": null,
   "id": "021de553-f3d2-4cf4-bc69-d6b11c03b3c1",
   "metadata": {},
   "outputs": [],
   "source": [
    "\"\"\"Q6. Write a Python function that takes in the degrees of freedom for the numerator and denominator of an\n",
    "F-distribution and calculates the mean and variance of the distribution. The function should return the\n",
    "mean and variance as a tuple.\"\"\""
   ]
  },
  {
   "cell_type": "code",
   "execution_count": 6,
   "id": "3c3baeb1-f8c6-4ac9-b5af-d3f937483b51",
   "metadata": {},
   "outputs": [],
   "source": [
    "import numpy as np\n",
    "from scipy.stats import f\n",
    "\n",
    "def f_distribution_mean_var(dfn, dfd):\n",
    "    \n",
    "    mean = dfd / (dfd - 2)\n",
    "    variance = (2 * (dfd**2) * (dfn + dfd - 2)) / ((dfn * (dfd - 2)**2 * (dfd - 4)))\n",
    "    \n",
    "    return mean, variance\n"
   ]
  },
  {
   "cell_type": "code",
   "execution_count": null,
   "id": "5f59b1ea-a694-4a7e-83fd-c9c014d1ffed",
   "metadata": {},
   "outputs": [],
   "source": [
    "\"\"\"Q7. A random sample of 10 measurements is taken from a normal population with unknown variance. The\n",
    "sample variance is found to be 25. Another random sample of 15 measurements is taken from another\n",
    "normal population with unknown variance, and the sample variance is found to be 20. Conduct an F-test\n",
    "at the 10% significance level to determine if the variances are significantly different.\"\"\""
   ]
  },
  {
   "cell_type": "code",
   "execution_count": 7,
   "id": "2d73aea6-c46f-4230-b001-0cc91e5369e9",
   "metadata": {},
   "outputs": [
    {
     "name": "stdout",
     "output_type": "stream",
     "text": [
      "F-value: 1.25\n",
      "p-value: 0.6832194382585954\n",
      "Are variances significantly different? False\n"
     ]
    }
   ],
   "source": [
    "from scipy.stats import f\n",
    "\n",
    "p_value = 2 * (1 - f.cdf(F, df1, df2))\n",
    "\n",
    "\n",
    "def f_test(s1_squared, s2_squared, n1, n2, alpha=0.05):\n",
    "    F = s1_squared / s2_squared\n",
    "    df1 = n1 - 1\n",
    "    df2 = n2 - 1\n",
    "    p_value = 2 * (1 - f.cdf(F, df1, df2))\n",
    "    return F, p_value, p_value < alpha\n",
    "\n",
    "\n",
    "F, p_value, sig_diff = f_test(25, 20, 10, 15, alpha=0.10)\n",
    "print(\"F-value:\", F)\n",
    "print(\"p-value:\", p_value)\n",
    "print(\"Are variances significantly different?\", sig_diff)\n"
   ]
  },
  {
   "cell_type": "code",
   "execution_count": null,
   "id": "365b994a-5c4c-4fd6-9174-446564966167",
   "metadata": {},
   "outputs": [],
   "source": [
    "\"\"\"Q8. The following data represent the waiting times in minutes at two different restaurants on a Saturday\n",
    "night: Restaurant A: 24, 25, 28, 23, 22, 20, 27; Restaurant B: 31, 33, 35, 30, 32, 36. Conduct an F-test at the 5%\n",
    "significance level to determine if the variances are significantly different.\"\"\""
   ]
  },
  {
   "cell_type": "code",
   "execution_count": 9,
   "id": "4af8f377-5cb2-4d73-ace4-1d50b3dac9d4",
   "metadata": {},
   "outputs": [
    {
     "name": "stdout",
     "output_type": "stream",
     "text": [
      "Sample variance of Restaurant A: 7.80952380952381\n",
      "Sample variance of Restaurant B: 5.366666666666667\n",
      "F-value: 1.4551907719609583\n",
      "Critical F-value: 6.977701858535566\n"
     ]
    }
   ],
   "source": [
    "import numpy as np\n",
    "\n",
    "a = np.array([24, 25, 28, 23, 22, 20, 27])\n",
    "b = np.array([31, 33, 35, 30, 32, 36])\n",
    "\n",
    "var_a = np.var(a, ddof=1)\n",
    "var_b = np.var(b, ddof=1)\n",
    "\n",
    "print(\"Sample variance of Restaurant A:\", var_a)\n",
    "print(\"Sample variance of Restaurant B:\", var_b)\n",
    "\n",
    "F = var_a / var_b\n",
    "print(\"F-value:\", F)\n",
    "\n",
    "from scipy.stats import f\n",
    "\n",
    "alpha = 0.05\n",
    "dfn = 6\n",
    "dfd = 5\n",
    "critical_F = f.ppf(1 - alpha/2, dfn, dfd)\n",
    "print(\"Critical F-value:\", critical_F)\n"
   ]
  },
  {
   "cell_type": "code",
   "execution_count": null,
   "id": "8e3cfaa0-443c-4f49-b78a-1361b93e5701",
   "metadata": {},
   "outputs": [],
   "source": [
    "\"\"\"Q9. The following data represent the test scores of two groups of students: Group A: 80, 85, 90, 92, 87, 83;\n",
    "Group B: 75, 78, 82, 79, 81, 84. Conduct an F-test at the 1% significance level to determine if the variances\n",
    "are significantly different.\"\"\""
   ]
  },
  {
   "cell_type": "code",
   "execution_count": null,
   "id": "cd3f146d-56ea-4c8c-b6eb-d040c68c00dd",
   "metadata": {},
   "outputs": [],
   "source": [
    "\"\"\"To determine if the variances of two groups are significantly different, we can use an F-test. The null hypothesis is that \n",
    "the variances are equal, and the alternative hypothesis is that they are not equal.\n",
    "\n",
    "First, we need to calculate the sample variances for both groups:\n",
    "\n",
    "Sample variance of Group A:\n",
    "\n",
    "s1^2 = ((80-87.17)^2 + (85-87.17)^2 + (90-87.17)^2 + (92-87.17)^2 + (87-87.17)^2 + (83-87.17)^2) / 5\n",
    "\n",
    "s1^2 = 20.61\n",
    "\n",
    "Sample variance of Group B:\n",
    "\n",
    "s2^2 = ((75-80)^2 + (78-80)^2 + (82-80)^2 + (79-80)^2 + (81-80)^2 + (84-80)^2) / 5\n",
    "\n",
    "s2^2 = 6.80\n",
    "\n",
    "Next, we need to calculate the F-statistic:\n",
    "\n",
    "F = s1^2 / s2^2\n",
    "\n",
    "F = 20.61 / 6.80\n",
    "\n",
    "F = 3.03\n",
    "\n",
    "The degrees of freedom for Group A are 5-1=4 and for Group B are 5-1=4.\n",
    "\n",
    "Using an F-distribution table at the 1% significance level and 4 and 4 degrees of freedom, the critical F-value is 7.71.\n",
    "\n",
    "Since the calculated F-value (3.03) is less than the critical F-value (7.71), we fail to reject the null hypothesis. Therefore, we can conclude that \n",
    "the variances of the two groups are not significantly different at the 1% significance level.\"\"\""
   ]
  }
 ],
 "metadata": {
  "kernelspec": {
   "display_name": "Python 3 (ipykernel)",
   "language": "python",
   "name": "python3"
  },
  "language_info": {
   "codemirror_mode": {
    "name": "ipython",
    "version": 3
   },
   "file_extension": ".py",
   "mimetype": "text/x-python",
   "name": "python",
   "nbconvert_exporter": "python",
   "pygments_lexer": "ipython3",
   "version": "3.10.8"
  }
 },
 "nbformat": 4,
 "nbformat_minor": 5
}
