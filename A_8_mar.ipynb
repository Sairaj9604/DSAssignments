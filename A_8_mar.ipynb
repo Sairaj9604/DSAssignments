{
 "cells": [
  {
   "cell_type": "code",
   "execution_count": null,
   "id": "f5e43b65-74d7-4f20-a328-2c8c3b34e314",
   "metadata": {},
   "outputs": [],
   "source": [
    "\"\"\"Q1. What is the Probability density function?\"\"\""
   ]
  },
  {
   "cell_type": "code",
   "execution_count": null,
   "id": "ca3aff55-4c8a-41a0-922a-5bd0e8eed32f",
   "metadata": {},
   "outputs": [],
   "source": [
    "\"\"\"The probability density function (PDF) is a function that describes the probability distribution of a continuous random variable. It provides the probability that the value of the random variable falls within a particular range of values.\n",
    "\n",
    "In mathematical terms, the PDF of a continuous random variable X is defined as the derivative of its cumulative distribution function (CDF), which gives the probability that X is less than or equal to a particular value. The PDF is denoted by f(x), and its integral over the range of X gives the probability of X taking any value within that range.\n",
    "\n",
    "The PDF of a continuous random variable has the following properties:\n",
    "\n",
    "It is always non-negative, meaning that the probability of X taking any value is never negative.\n",
    "Its integral over the entire range of X is equal to 1, meaning that the probability of X taking any value within the entire range is 1.\"\"\""
   ]
  },
  {
   "cell_type": "code",
   "execution_count": null,
   "id": "fd190331-5bbf-470a-b0e5-f1525128e266",
   "metadata": {},
   "outputs": [],
   "source": [
    "\"\"\"Q2. What are the types of Probability distribution?\"\"\""
   ]
  },
  {
   "cell_type": "code",
   "execution_count": null,
   "id": "16007762-31c5-4209-b637-95e5de579ca0",
   "metadata": {},
   "outputs": [],
   "source": [
    "\"\"\"\"Discrete probability distribution: A discrete probability distribution describes the probabilities of a discrete random variable taking specific values. In other words, a discrete probability distribution is one where the random variable can only take on certain discrete values, such as integers or whole numbers. Examples of discrete probability distributions include the binomial distribution, the Poisson distribution, and the geometric distribution.\n",
    "\n",
    "Continuous probability distribution: A continuous probability distribution describes the probabilities of a continuous random variable taking any value within a certain range. In other words, a continuous probability distribution is one where the random variable can take on any value within a continuous range of values. Examples of continuous probability distributions include the normal distribution, the exponential distribution, and the beta distribution.\"\"\""
   ]
  },
  {
   "cell_type": "code",
   "execution_count": null,
   "id": "c02193d6-3c10-451b-a91e-99ae28d810aa",
   "metadata": {},
   "outputs": [],
   "source": [
    "\"\"\"Q3. Write a Python function to calculate the probability density function of a normal distribution with\n",
    "given mean and standard deviation at a given point.\n",
    "\"\"\""
   ]
  },
  {
   "cell_type": "code",
   "execution_count": 2,
   "id": "61991a93-fc82-430c-ac7f-c6089cc13ab4",
   "metadata": {},
   "outputs": [
    {
     "name": "stdout",
     "output_type": "stream",
     "text": [
      "0.24197072451914337\n"
     ]
    }
   ],
   "source": [
    "import math\n",
    "\n",
    "def normal_pdf(x, mu, sigma):\n",
    "    \n",
    "    coefficient = 1 / (sigma * math.sqrt(2 * math.pi))\n",
    "    exponent = -((x - mu) ** 2) / (2 * sigma ** 2)\n",
    "    pdf = coefficient * math.exp(exponent)\n",
    "    return pdf\n",
    "\n",
    "pdf = normal_pdf(1, 0, 1)\n",
    "print(pdf)"
   ]
  },
  {
   "cell_type": "code",
   "execution_count": null,
   "id": "7a816dd5-349c-4ce0-90ed-f49620d58712",
   "metadata": {},
   "outputs": [],
   "source": [
    "\"\"\"Q4. What are the properties of Binomial distribution? Give two examples of events where binomial\n",
    "distribution can be applied.\"\"\""
   ]
  },
  {
   "cell_type": "code",
   "execution_count": null,
   "id": "14c4a466-0833-4edb-bf93-f85da5e87805",
   "metadata": {},
   "outputs": [],
   "source": [
    "\"\"\"The properties of a binomial distribution are:\n",
    "\n",
    "The experiment consists of a fixed number of independent trials.\n",
    "Each trial has only two possible outcomes, success or failure.\n",
    "The probability of success and failure remains constant for each trial.\n",
    "The trials are independent of each other.\n",
    "The random variable of interest is the number of successes in the trials.\n",
    "Two examples of events where binomial distribution can be applied are:\n",
    "\n",
    "Tossing a coin: When we toss a coin, we can either get heads or tails. Each toss of the coin is a trial, and the probability of getting heads or \n",
    "tails is 0.5. We can use binomial distribution to calculate the probability of getting a certain number of heads in a fixed number of coin tosses.\n",
    "Quality control: A company wants to check the quality of a product by testing a sample of it. They want to know the probability of a certain number of \n",
    "defective items in the sample. This can be modeled using binomial distribution, where each item in the sample is a trial, and the probability of a \n",
    "defective item is constant for each trial.\"\"\""
   ]
  },
  {
   "cell_type": "code",
   "execution_count": null,
   "id": "cdbf0d7c-e3f7-4df9-aceb-324016c84a05",
   "metadata": {},
   "outputs": [],
   "source": [
    "\"\"\"Q5. Generate a random sample of size 1000 from a binomial distribution with probability of success 0.4\n",
    "and plot a histogram of the results using matplotlib.\"\"\""
   ]
  },
  {
   "cell_type": "code",
   "execution_count": 3,
   "id": "44b30bb3-1bc1-4944-9bfc-bace3a6ff942",
   "metadata": {},
   "outputs": [
    {
     "data": {
      "image/png": "[encoded data removed]",
      "text/plain": [
       "<Figure size 640x480 with 1 Axes>"
      ]
     },
     "metadata": {},
     "output_type": "display_data"
    }
   ],
   "source": [
    "import numpy as np\n",
    "import matplotlib.pyplot as plt\n",
    "\n",
    "np.random.seed(123)\n",
    "\n",
    "\n",
    "sample = np.random.binomial(n=1, p=0.4, size=1000)\n",
    "\n",
    "# Plot a histogram of the results\n",
    "plt.hist(sample, bins=2)\n",
    "plt.xlabel('Success or Failure')\n",
    "plt.ylabel('Frequency')\n",
    "plt.title('Histogram of Random Sample from a Binomial Distribution')\n",
    "plt.show()"
   ]
  },
  {
   "cell_type": "code",
   "execution_count": null,
   "id": "ba0e0bde-e118-488d-a0ac-70cb6633b495",
   "metadata": {},
   "outputs": [],
   "source": [
    "\"\"\"Q6. Write a Python function to calculate the cumulative distribution function of a Poisson distribution\n",
    "with given mean at a given point.\"\"\""
   ]
  },
  {
   "cell_type": "code",
   "execution_count": 4,
   "id": "8ed42806-e642-4364-8890-9599f464bdf5",
   "metadata": {},
   "outputs": [
    {
     "name": "stdout",
     "output_type": "stream",
     "text": [
      "0.9160820579686966\n"
     ]
    }
   ],
   "source": [
    "import scipy.stats as stats\n",
    "\n",
    "def poisson_cdf(mu, x):\n",
    "    return stats.poisson.cdf(x, mu)\n",
    "\n",
    "result = poisson_cdf(3, 5)\n",
    "print(result)"
   ]
  },
  {
   "cell_type": "code",
   "execution_count": null,
   "id": "7bc4ff8f-4ac6-4043-895c-512d68b9ffe9",
   "metadata": {},
   "outputs": [],
   "source": [
    "\"\"\"Q7. How Binomial distribution different from Poisson distribution?\"\"\""
   ]
  },
  {
   "cell_type": "code",
   "execution_count": null,
   "id": "aba34a82-880a-4018-a967-827d9617fbb0",
   "metadata": {},
   "outputs": [],
   "source": [
    "\"\"\"Binomial distribution is used when we have a fixed number of independent trials, each with a binary outcome (success or failure) and a fixed\n",
    "probability of success. The number of successes in these trials is what we are interested in. The binomial distribution has two parameters: the number \n",
    "of trials (n) and the probability of success (p).\n",
    "\n",
    "Poisson distribution is used to model the number of times an event occurs in a fixed interval of time or space. It assumes that the events are \n",
    "independent of each other and occur at a constant rate. The Poisson distribution has one parameter: the mean rate of events (lambda).\n",
    "\n",
    "In summary, the key differences between the binomial and Poisson distributions are:\n",
    "\n",
    "Binomial distribution models the number of successes in a fixed number of trials with a fixed probability of success, while Poisson distribution \n",
    "models the number of events occurring in a fixed interval with a constant rate.\n",
    "Binomial distribution has two parameters (n and p), while Poisson distribution has one parameter (lambda).\"\"\""
   ]
  },
  {
   "cell_type": "code",
   "execution_count": null,
   "id": "e141db48-c606-4ede-b268-463f62e0f061",
   "metadata": {},
   "outputs": [],
   "source": [
    "\"\"\"Q8. Generate a random sample of size 1000 from a Poisson distribution with mean 5 and calculate the\n",
    "sample mean and variance.\"\"\""
   ]
  },
  {
   "cell_type": "code",
   "execution_count": 5,
   "id": "d89a6df7-4823-4004-919d-75bc5ad02f95",
   "metadata": {},
   "outputs": [
    {
     "name": "stdout",
     "output_type": "stream",
     "text": [
      "Sample mean: 4.956\n",
      "Sample variance: 5.132064000000001\n"
     ]
    }
   ],
   "source": [
    "import numpy as np\n",
    "\n",
    "sample = np.random.poisson(5, 1000)\n",
    "mean = np.mean(sample)\n",
    "variance = np.var(sample)\n",
    "\n",
    "print(\"Sample mean:\", mean)\n",
    "print(\"Sample variance:\", variance)"
   ]
  },
  {
   "cell_type": "code",
   "execution_count": null,
   "id": "6940093b-1ace-48bd-b33e-e576f2f87501",
   "metadata": {},
   "outputs": [],
   "source": [
    "\"\"\"Q9. How mean and variance are related in Binomial distribution and Poisson distribution?\"\"\""
   ]
  },
  {
   "cell_type": "code",
   "execution_count": null,
   "id": "91a3b754-b075-483a-9c21-684d5a900230",
   "metadata": {},
   "outputs": [],
   "source": [
    "\"\"\"In a Binomial distribution, the mean is equal to the product of the number of trials and the probability of success in each trial. The variance is\n",
    "equal to the product of the number of trials, the probability of success in each trial, and the probability of failure in each trial. As the number of \n",
    "trials increases, the variance also increases.\n",
    "\n",
    "In a Poisson distribution, both the mean and variance are equal to lambda (λ), which is the average number of occurrences in the given interval. \n",
    "The mean and variance remain the same, regardless of the number of trials.\n",
    "\n",
    "In summary, the mean and variance are related to the number of trials in a Binomial distribution, whereas they are equal and fixed in a Poisson \n",
    "distribution.\"\"\""
   ]
  },
  {
   "cell_type": "code",
   "execution_count": null,
   "id": "2a20e0b3-38fb-4f3f-a8d6-c015b055f06a",
   "metadata": {},
   "outputs": [],
   "source": [
    "\"\"\"Q10. In normal distribution with respect to mean position, where does the least frequent data appear?\"\"\""
   ]
  },
  {
   "cell_type": "code",
   "execution_count": null,
   "id": "21ba374f-d626-4413-ae95-ff1ba447ed66",
   "metadata": {},
   "outputs": [],
   "source": [
    "\"\"\"In a normal distribution, the least frequent data appears at the tails of the distribution, which are farther away from the mean. This is because \n",
    "the probability density is lower at the tails of the distribution compared to the central part of the distribution, which means that data values in \n",
    "the tails are less likely to occur than those near the mean.\"\"\""
   ]
  }
 ],
 "metadata": {
  "kernelspec": {
   "display_name": "Python 3 (ipykernel)",
   "language": "python",
   "name": "python3"
  },
  "language_info": {
   "codemirror_mode": {
    "name": "ipython",
    "version": 3
   },
   "file_extension": ".py",
   "mimetype": "text/x-python",
   "name": "python",
   "nbconvert_exporter": "python",
   "pygments_lexer": "ipython3",
   "version": "3.10.8"
  }
 },
 "nbformat": 4,
 "nbformat_minor": 5
}
