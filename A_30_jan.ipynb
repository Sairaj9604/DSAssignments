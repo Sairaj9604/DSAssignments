{
 "cells": [
  {
   "cell_type": "raw",
   "id": "857c328b-6031-44ea-b502-2191611a0bb6",
   "metadata": {},
   "source": [
    "Q1 grade"
   ]
  },
  {
   "cell_type": "code",
   "execution_count": 1,
   "id": "2e3af5bb-4a42-41eb-9047-3e6e87744962",
   "metadata": {},
   "outputs": [
    {
     "name": "stdin",
     "output_type": "stream",
     "text": [
      " 55\n"
     ]
    },
    {
     "name": "stdout",
     "output_type": "stream",
     "text": [
      "D\n"
     ]
    }
   ],
   "source": [
    "a = int(input())\n",
    "if(a>90):\n",
    "    print(\"A\")\n",
    "elif(a>80 and a<=90):\n",
    "    print(\"B\")\n",
    "elif(a>60 and a<=80):\n",
    "    print(\"C\")\n",
    "else:\n",
    "    print(\"D\")"
   ]
  },
  {
   "cell_type": "raw",
   "id": "0d34b706-f0ca-4867-a75d-c7f55526287e",
   "metadata": {},
   "source": [
    "Q2 cost to paid"
   ]
  },
  {
   "cell_type": "raw",
   "id": "68988cd2-4b80-4f39-9db0-57a5dc489b4f",
   "metadata": {},
   "source": [
    "a = int(input())\n",
    "if (a>100000):\n",
    "    total = a*1.15\n",
    "    print(total)\n",
    "elif(a>50000 and a<=100000):\n",
    "    total = a*1.10\n",
    "    print(total)\n",
    "elif(a<=50000):\n",
    "    total = a*1.05\n",
    "    print(total)"
   ]
  },
  {
   "cell_type": "raw",
   "id": "a000c1f9-ace3-494e-af9f-5ecdcc9f38fb",
   "metadata": {},
   "source": [
    "Q3 City and monument"
   ]
  },
  {
   "cell_type": "code",
   "execution_count": 3,
   "id": "fe71a526-ee04-4eab-a720-6e043ab6e198",
   "metadata": {},
   "outputs": [
    {
     "name": "stdin",
     "output_type": "stream",
     "text": [
      " Delhi\n"
     ]
    },
    {
     "name": "stdout",
     "output_type": "stream",
     "text": [
      "Red Fort\n"
     ]
    }
   ],
   "source": [
    "a = input()\n",
    "if(a=='Delhi'):\n",
    "    print(\"Red Fort\")\n",
    "if(a=='Agra'):\n",
    "    print(\"Taj Mahal\")\n",
    "if(a=='Jaipur'):\n",
    "    print(\"Jal Mahal\")\n",
    "else:\n",
    "    pass"
   ]
  },
  {
   "cell_type": "raw",
   "id": "f4eeffa7-0f31-4325-a668-5458234ef8b9",
   "metadata": {},
   "source": [
    "Q4 Check how many times a given number can be divided"
   ]
  },
  {
   "cell_type": "code",
   "execution_count": 5,
   "id": "9b8a5f5f-4123-486e-a4d1-86b696611252",
   "metadata": {},
   "outputs": [
    {
     "name": "stdin",
     "output_type": "stream",
     "text": [
      " 123\n"
     ]
    },
    {
     "name": "stdout",
     "output_type": "stream",
     "text": [
      "1\n"
     ]
    }
   ],
   "source": [
    "a = int(input())\n",
    "count = 0\n",
    "while(a>10):\n",
    "    if(a%3==0):\n",
    "        count+=1\n",
    "    a = a//3\n",
    "print(count)"
   ]
  },
  {
   "cell_type": "raw",
   "id": "46c3a4be-d7a6-4d03-8c40-6e9049852620",
   "metadata": {},
   "source": [
    "Q5 why and when to use while loop in python"
   ]
  },
  {
   "cell_type": "raw",
   "id": "5a7ca047-982c-4a69-8fb0-14fcef0a0fb5",
   "metadata": {},
   "source": [
    "With the while loop we can execute a set of statements as long as a condition is true.\n",
    "The while loop requires relevant variables to be ready, in this example we need to define an indexing variable, i, which we set to 1."
   ]
  },
  {
   "cell_type": "raw",
   "id": "7987c012-81ef-4708-bf9e-f0825e104871",
   "metadata": {},
   "source": [
    "Q6 use nested while loop to print different 3 patterns"
   ]
  },
  {
   "cell_type": "code",
   "execution_count": 6,
   "id": "38f15c95-7fc8-42c4-a3ae-e5e464892c52",
   "metadata": {},
   "outputs": [
    {
     "name": "stdout",
     "output_type": "stream",
     "text": [
      "1 \n",
      "1 2 \n",
      "1 2 3 \n",
      "1 2 3 4 \n",
      "1 2 3 4 5 \n"
     ]
    }
   ],
   "source": [
    "i=1\n",
    "while i<=5:\n",
    "    j=1\n",
    "    while j<=i:\n",
    "        print(j,end=\" \")\n",
    "        j=j+1\n",
    "    print(\"\")\n",
    "    i=i+1"
   ]
  },
  {
   "cell_type": "code",
   "execution_count": 7,
   "id": "0ee4290c-de10-4469-a8f4-d6c210626dad",
   "metadata": {},
   "outputs": [
    {
     "name": "stdout",
     "output_type": "stream",
     "text": [
      "* \n",
      "* * \n",
      "* * * \n",
      "* * * * \n",
      "* * * * * \n"
     ]
    }
   ],
   "source": [
    "i=1\n",
    "while i<=5:\n",
    "    j=1\n",
    "    while j<=i:\n",
    "        print(\"*\",end=\" \")\n",
    "        j=j+1\n",
    "    print(\"\")\n",
    "    i=i+1"
   ]
  },
  {
   "cell_type": "raw",
   "id": "87052852-1f5c-43b2-8841-4b183c98166d",
   "metadata": {},
   "source": [
    "Q7 reverse a while to display number 10 to 1"
   ]
  },
  {
   "cell_type": "code",
   "execution_count": 8,
   "id": "4ea12b1f-d167-4bea-8914-109cac5c50c1",
   "metadata": {},
   "outputs": [
    {
     "name": "stdout",
     "output_type": "stream",
     "text": [
      "10\n",
      "9\n",
      "8\n",
      "7\n",
      "6\n",
      "5\n",
      "4\n",
      "3\n",
      "2\n",
      "1\n"
     ]
    }
   ],
   "source": [
    "num =10\n",
    "while(num>0):\n",
    "    print(num)\n",
    "    num = num-1\n"
   ]
  },
  {
   "cell_type": "raw",
   "id": "9a0d8444-95b7-4372-8bac-69548c2f2cce",
   "metadata": {},
   "source": [
    "Q8  reverse a while to display number 10 to 1"
   ]
  },
  {
   "cell_type": "code",
   "execution_count": 10,
   "id": "5e1c3598-81d3-48f3-9349-4fe9e951cc58",
   "metadata": {},
   "outputs": [
    {
     "name": "stdout",
     "output_type": "stream",
     "text": [
      "10\n",
      "9\n",
      "8\n",
      "7\n",
      "6\n",
      "5\n",
      "4\n",
      "3\n",
      "2\n",
      "1\n"
     ]
    }
   ],
   "source": [
    "num =10\n",
    "while(num>0):\n",
    "    print(num)\n",
    "    num = num-1"
   ]
  }
 ],
 "metadata": {
  "kernelspec": {
   "display_name": "Python 3 (ipykernel)",
   "language": "python",
   "name": "python3"
  },
  "language_info": {
   "codemirror_mode": {
    "name": "ipython",
    "version": 3
   },
   "file_extension": ".py",
   "mimetype": "text/x-python",
   "name": "python",
   "nbconvert_exporter": "python",
   "pygments_lexer": "ipython3",
   "version": "3.10.8"
  }
 },
 "nbformat": 4,
 "nbformat_minor": 5
}
